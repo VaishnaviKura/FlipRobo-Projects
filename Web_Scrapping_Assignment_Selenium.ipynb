{
 "cells": [
  {
   "cell_type": "code",
   "execution_count": 1,
   "metadata": {},
   "outputs": [
    {
     "name": "stdout",
     "output_type": "stream",
     "text": [
      "Requirement already satisfied: selenium in c:\\users\\vaishnavi\\anaconda3\\lib\\site-packages (3.141.0)\n",
      "Requirement already satisfied: urllib3 in c:\\users\\vaishnavi\\anaconda3\\lib\\site-packages (from selenium) (1.25.11)\n"
     ]
    }
   ],
   "source": [
    "!pip install selenium"
   ]
  },
  {
   "cell_type": "code",
   "execution_count": 257,
   "metadata": {},
   "outputs": [],
   "source": [
    "import selenium\n",
    "import pandas as pd\n",
    "from selenium import webdriver"
   ]
  },
  {
   "cell_type": "markdown",
   "metadata": {},
   "source": [
    "Question 1:"
   ]
  },
  {
   "cell_type": "code",
   "execution_count": 258,
   "metadata": {},
   "outputs": [],
   "source": [
    "driver = webdriver.Chrome(\"chromedriver.exe\")\n",
    "\n",
    "url= \"https://www.naukri.com/\"\n",
    "driver.get(url)"
   ]
  },
  {
   "cell_type": "code",
   "execution_count": 259,
   "metadata": {},
   "outputs": [],
   "source": [
    "search_job= driver.find_element_by_id('qsb-keyword-sugg')\n",
    "\n",
    "search_job.send_keys('Data Analyst')"
   ]
  },
  {
   "cell_type": "code",
   "execution_count": 261,
   "metadata": {},
   "outputs": [],
   "source": [
    "search_loc= driver.find_element_by_id('qsb-location-sugg')\n",
    "search_loc.send_keys('Bangalore')"
   ]
  },
  {
   "cell_type": "code",
   "execution_count": 262,
   "metadata": {},
   "outputs": [],
   "source": [
    "search_button= driver.find_element_by_xpath(\"//button[@class='btn']\")\n",
    "search_button.click()"
   ]
  },
  {
   "cell_type": "code",
   "execution_count": 263,
   "metadata": {},
   "outputs": [],
   "source": [
    "job_title = []\n",
    "company_name = []\n",
    "experience = []\n"
   ]
  },
  {
   "cell_type": "code",
   "execution_count": 264,
   "metadata": {},
   "outputs": [],
   "source": [
    "title_tag= driver.find_elements_by_xpath(\"//a[@class= 'title fw500 ellipsis']\")"
   ]
  },
  {
   "cell_type": "code",
   "execution_count": 265,
   "metadata": {},
   "outputs": [
    {
     "data": {
      "text/plain": [
       "['Data Analyst / Data Scientist / Business Analytics / Fresher / MNC OSC',\n",
       " 'Senior Data Analyst',\n",
       " 'Tcs Hiring For Senior Data Analyst (bfsi domain)',\n",
       " 'Business Data Analyst',\n",
       " 'Business Data Analyst',\n",
       " 'Business Data Analyst - Google Data Studio & SQL',\n",
       " 'Senior Data Analyst',\n",
       " 'Tcs Hiring For MDM (master data management) Data Analyst (bfsi domain)',\n",
       " 'Senior Data Analyst IDAM Services',\n",
       " 'Data Analyst/Sr.Data Engineer']"
      ]
     },
     "execution_count": 265,
     "metadata": {},
     "output_type": "execute_result"
    }
   ],
   "source": [
    "for i in title_tag:\n",
    "    job_title.append(i.text)\n",
    "#Displaying top 10 search.\n",
    "job_title[:10]"
   ]
  },
  {
   "cell_type": "code",
   "execution_count": 266,
   "metadata": {},
   "outputs": [
    {
     "data": {
      "text/plain": [
       "['GABA Consultancy services',\n",
       " 'Gaussian Networks Private Limited',\n",
       " 'Tata Consultancy Services Ltd.',\n",
       " 'Trigent Software',\n",
       " 'Trigent Software',\n",
       " 'AVE-Promagne',\n",
       " 'Virtusa Consulting Services Pvt Ltd',\n",
       " 'Tata Consultancy Services Ltd.',\n",
       " 'GlaxoSmithKline Pharmaceuticals Limited',\n",
       " 'SYREN TECHNOLOGIES PRIVATE LIMITED']"
      ]
     },
     "execution_count": 266,
     "metadata": {},
     "output_type": "execute_result"
    }
   ],
   "source": [
    "company_tag= driver.find_elements_by_xpath(\"//a[@class='subTitle ellipsis fleft']\")\n",
    "for i in company_tag:\n",
    "    company_name.append(i.text)\n",
    "company_name[:10]"
   ]
  },
  {
   "cell_type": "code",
   "execution_count": 267,
   "metadata": {},
   "outputs": [
    {
     "data": {
      "text/plain": [
       "['0-0 Yrs',\n",
       " '3-5 Yrs',\n",
       " '6-11 Yrs',\n",
       " '5-10 Yrs',\n",
       " '5-10 Yrs',\n",
       " '3-8 Yrs',\n",
       " '8-12 Yrs',\n",
       " '6-11 Yrs',\n",
       " '4-8 Yrs',\n",
       " '4-9 Yrs']"
      ]
     },
     "execution_count": 267,
     "metadata": {},
     "output_type": "execute_result"
    }
   ],
   "source": [
    "exp_tag= driver.find_elements_by_xpath(\"//li[@class='fleft grey-text br2 placeHolderLi experience']\")\n",
    "for i in exp_tag:\n",
    "    experience.append(i.text)\n",
    "experience[:10]"
   ]
  },
  {
   "cell_type": "code",
   "execution_count": 272,
   "metadata": {},
   "outputs": [
    {
     "data": {
      "text/plain": [
       "['Hyderabad/Secunderabad, Chennai, Bangalore/Bengaluru',\n",
       " 'Gurgaon/Gurugram, Bangalore/Bengaluru',\n",
       " 'Chennai, Bangalore/Bengaluru',\n",
       " 'Bangalore/Bengaluru',\n",
       " 'Bangalore/Bengaluru',\n",
       " 'Bangalore/Bengaluru',\n",
       " 'Hyderabad/Secunderabad, Pune, Gurgaon/Gurugram, Chennai, Bangalore/Bengaluru, Mumbai (All Areas)\\n(WFH during Covid)',\n",
       " 'Chennai, Bangalore/Bengaluru',\n",
       " 'Bangalore/Bengaluru',\n",
       " 'Hyderabad/Secunderabad, Chennai, Bangalore/Bengaluru\\n(WFH during Covid)']"
      ]
     },
     "execution_count": 272,
     "metadata": {},
     "output_type": "execute_result"
    }
   ],
   "source": [
    "Location=[]\n",
    "location = driver.find_elements_by_xpath(\"//li[@class='fleft grey-text br2 placeHolderLi location']\")\n",
    "for i in location:\n",
    "    Location.append(i.text)\n",
    "Location[:10]"
   ]
  },
  {
   "cell_type": "code",
   "execution_count": 274,
   "metadata": {},
   "outputs": [],
   "source": [
    "dataanalyst_jobs= pd.DataFrame({})\n",
    "dataanalyst_jobs['Title'] = job_title[:10]\n",
    "dataanalyst_jobs['Company name'] = company_name[:10]\n",
    "dataanalyst_jobs['Experince'] = experience[:10]\n",
    "dataanalyst_jobs['Location'] = Location[:10]"
   ]
  },
  {
   "cell_type": "code",
   "execution_count": 275,
   "metadata": {},
   "outputs": [
    {
     "data": {
      "text/html": [
       "<div>\n",
       "<style scoped>\n",
       "    .dataframe tbody tr th:only-of-type {\n",
       "        vertical-align: middle;\n",
       "    }\n",
       "\n",
       "    .dataframe tbody tr th {\n",
       "        vertical-align: top;\n",
       "    }\n",
       "\n",
       "    .dataframe thead th {\n",
       "        text-align: right;\n",
       "    }\n",
       "</style>\n",
       "<table border=\"1\" class=\"dataframe\">\n",
       "  <thead>\n",
       "    <tr style=\"text-align: right;\">\n",
       "      <th></th>\n",
       "      <th>Title</th>\n",
       "      <th>Company name</th>\n",
       "      <th>Experince</th>\n",
       "      <th>Location</th>\n",
       "    </tr>\n",
       "  </thead>\n",
       "  <tbody>\n",
       "    <tr>\n",
       "      <th>0</th>\n",
       "      <td>Data Analyst / Data Scientist / Business Analy...</td>\n",
       "      <td>GABA Consultancy services</td>\n",
       "      <td>0-0 Yrs</td>\n",
       "      <td>Hyderabad/Secunderabad, Chennai, Bangalore/Ben...</td>\n",
       "    </tr>\n",
       "    <tr>\n",
       "      <th>1</th>\n",
       "      <td>Senior Data Analyst</td>\n",
       "      <td>Gaussian Networks Private Limited</td>\n",
       "      <td>3-5 Yrs</td>\n",
       "      <td>Gurgaon/Gurugram, Bangalore/Bengaluru</td>\n",
       "    </tr>\n",
       "    <tr>\n",
       "      <th>2</th>\n",
       "      <td>Tcs Hiring For Senior Data Analyst (bfsi domain)</td>\n",
       "      <td>Tata Consultancy Services Ltd.</td>\n",
       "      <td>6-11 Yrs</td>\n",
       "      <td>Chennai, Bangalore/Bengaluru</td>\n",
       "    </tr>\n",
       "    <tr>\n",
       "      <th>3</th>\n",
       "      <td>Business Data Analyst</td>\n",
       "      <td>Trigent Software</td>\n",
       "      <td>5-10 Yrs</td>\n",
       "      <td>Bangalore/Bengaluru</td>\n",
       "    </tr>\n",
       "    <tr>\n",
       "      <th>4</th>\n",
       "      <td>Business Data Analyst</td>\n",
       "      <td>Trigent Software</td>\n",
       "      <td>5-10 Yrs</td>\n",
       "      <td>Bangalore/Bengaluru</td>\n",
       "    </tr>\n",
       "    <tr>\n",
       "      <th>5</th>\n",
       "      <td>Business Data Analyst - Google Data Studio &amp; SQL</td>\n",
       "      <td>AVE-Promagne</td>\n",
       "      <td>3-8 Yrs</td>\n",
       "      <td>Bangalore/Bengaluru</td>\n",
       "    </tr>\n",
       "    <tr>\n",
       "      <th>6</th>\n",
       "      <td>Senior Data Analyst</td>\n",
       "      <td>Virtusa Consulting Services Pvt Ltd</td>\n",
       "      <td>8-12 Yrs</td>\n",
       "      <td>Hyderabad/Secunderabad, Pune, Gurgaon/Gurugram...</td>\n",
       "    </tr>\n",
       "    <tr>\n",
       "      <th>7</th>\n",
       "      <td>Tcs Hiring For MDM (master data management) Da...</td>\n",
       "      <td>Tata Consultancy Services Ltd.</td>\n",
       "      <td>6-11 Yrs</td>\n",
       "      <td>Chennai, Bangalore/Bengaluru</td>\n",
       "    </tr>\n",
       "    <tr>\n",
       "      <th>8</th>\n",
       "      <td>Senior Data Analyst IDAM Services</td>\n",
       "      <td>GlaxoSmithKline Pharmaceuticals Limited</td>\n",
       "      <td>4-8 Yrs</td>\n",
       "      <td>Bangalore/Bengaluru</td>\n",
       "    </tr>\n",
       "    <tr>\n",
       "      <th>9</th>\n",
       "      <td>Data Analyst/Sr.Data Engineer</td>\n",
       "      <td>SYREN TECHNOLOGIES PRIVATE LIMITED</td>\n",
       "      <td>4-9 Yrs</td>\n",
       "      <td>Hyderabad/Secunderabad, Chennai, Bangalore/Ben...</td>\n",
       "    </tr>\n",
       "  </tbody>\n",
       "</table>\n",
       "</div>"
      ],
      "text/plain": [
       "                                               Title  \\\n",
       "0  Data Analyst / Data Scientist / Business Analy...   \n",
       "1                                Senior Data Analyst   \n",
       "2   Tcs Hiring For Senior Data Analyst (bfsi domain)   \n",
       "3                              Business Data Analyst   \n",
       "4                              Business Data Analyst   \n",
       "5   Business Data Analyst - Google Data Studio & SQL   \n",
       "6                                Senior Data Analyst   \n",
       "7  Tcs Hiring For MDM (master data management) Da...   \n",
       "8                  Senior Data Analyst IDAM Services   \n",
       "9                      Data Analyst/Sr.Data Engineer   \n",
       "\n",
       "                              Company name Experince  \\\n",
       "0                GABA Consultancy services   0-0 Yrs   \n",
       "1        Gaussian Networks Private Limited   3-5 Yrs   \n",
       "2           Tata Consultancy Services Ltd.  6-11 Yrs   \n",
       "3                         Trigent Software  5-10 Yrs   \n",
       "4                         Trigent Software  5-10 Yrs   \n",
       "5                             AVE-Promagne   3-8 Yrs   \n",
       "6      Virtusa Consulting Services Pvt Ltd  8-12 Yrs   \n",
       "7           Tata Consultancy Services Ltd.  6-11 Yrs   \n",
       "8  GlaxoSmithKline Pharmaceuticals Limited   4-8 Yrs   \n",
       "9       SYREN TECHNOLOGIES PRIVATE LIMITED   4-9 Yrs   \n",
       "\n",
       "                                            Location  \n",
       "0  Hyderabad/Secunderabad, Chennai, Bangalore/Ben...  \n",
       "1              Gurgaon/Gurugram, Bangalore/Bengaluru  \n",
       "2                       Chennai, Bangalore/Bengaluru  \n",
       "3                                Bangalore/Bengaluru  \n",
       "4                                Bangalore/Bengaluru  \n",
       "5                                Bangalore/Bengaluru  \n",
       "6  Hyderabad/Secunderabad, Pune, Gurgaon/Gurugram...  \n",
       "7                       Chennai, Bangalore/Bengaluru  \n",
       "8                                Bangalore/Bengaluru  \n",
       "9  Hyderabad/Secunderabad, Chennai, Bangalore/Ben...  "
      ]
     },
     "execution_count": 275,
     "metadata": {},
     "output_type": "execute_result"
    }
   ],
   "source": [
    "dataanalyst_jobs"
   ]
  },
  {
   "cell_type": "markdown",
   "metadata": {},
   "source": [
    "Question 2:"
   ]
  },
  {
   "cell_type": "code",
   "execution_count": 276,
   "metadata": {},
   "outputs": [],
   "source": [
    "driver = webdriver.Chrome(\"chromedriver.exe\")\n",
    "\n",
    "url= \"https://www.naukri.com/\"\n",
    "driver.get(url)"
   ]
  },
  {
   "cell_type": "code",
   "execution_count": 277,
   "metadata": {},
   "outputs": [],
   "source": [
    "job_title2 = []\n",
    "company_name2 = []\n",
    "experience2 = []\n",
    "days_of_posting2 = []"
   ]
  },
  {
   "cell_type": "code",
   "execution_count": 278,
   "metadata": {},
   "outputs": [],
   "source": [
    "search_job= driver.find_element_by_id('qsb-keyword-sugg')"
   ]
  },
  {
   "cell_type": "code",
   "execution_count": 280,
   "metadata": {},
   "outputs": [],
   "source": [
    "search_job.send_keys('Data Scientist')"
   ]
  },
  {
   "cell_type": "code",
   "execution_count": 279,
   "metadata": {},
   "outputs": [],
   "source": [
    "search_loc= driver.find_element_by_id('qsb-location-sugg')\n",
    "search_loc.send_keys('Bangalore')"
   ]
  },
  {
   "cell_type": "code",
   "execution_count": 281,
   "metadata": {},
   "outputs": [],
   "source": [
    "search_button= driver.find_element_by_xpath(\"//button[@class='btn']\")\n",
    "search_button.click()"
   ]
  },
  {
   "cell_type": "code",
   "execution_count": 282,
   "metadata": {},
   "outputs": [],
   "source": [
    "title_tag2= driver.find_elements_by_xpath(\"//a[@class= 'title fw500 ellipsis']\")"
   ]
  },
  {
   "cell_type": "code",
   "execution_count": 283,
   "metadata": {},
   "outputs": [
    {
     "data": {
      "text/plain": [
       "['Hiring For Senior Data Scientist',\n",
       " 'Data Scientist',\n",
       " 'Data Scientist',\n",
       " 'Lead Data Scientist BFSI',\n",
       " 'Data Analyst / Data Scientist / Business Analytics / Fresher / MNC OSC',\n",
       " 'Data Scientist - I / II',\n",
       " 'Data Scientist',\n",
       " 'Data Scientist: Advanced Analytics',\n",
       " 'Hiring For Data Scientist',\n",
       " 'Senior Data Scientist']"
      ]
     },
     "execution_count": 283,
     "metadata": {},
     "output_type": "execute_result"
    }
   ],
   "source": [
    "for i in title_tag2:\n",
    "    job_title2.append(i.text)\n",
    "#Displaying top 10 search.\n",
    "job_title2[:10]"
   ]
  },
  {
   "cell_type": "code",
   "execution_count": 284,
   "metadata": {},
   "outputs": [],
   "source": [
    "company_tag2= driver.find_elements_by_xpath(\"//a[@class='subTitle ellipsis fleft']\")"
   ]
  },
  {
   "cell_type": "code",
   "execution_count": 285,
   "metadata": {},
   "outputs": [
    {
     "data": {
      "text/plain": [
       "['Tata Consultancy Services Ltd.',\n",
       " 'Brillio',\n",
       " 'Allegis Services India Pvt. Ltd.',\n",
       " 'IBM India Pvt. Limited',\n",
       " 'GABA Consultancy services',\n",
       " 'Sharechat',\n",
       " 'Allegis Services India Pvt. Ltd.',\n",
       " 'IBM India Pvt. Limited',\n",
       " 'Tata Consultancy Services Ltd.',\n",
       " 'Walmart Labs']"
      ]
     },
     "execution_count": 285,
     "metadata": {},
     "output_type": "execute_result"
    }
   ],
   "source": [
    "for i in company_tag2:\n",
    "    company_name2.append(i.text)\n",
    "company_name2[:10]"
   ]
  },
  {
   "cell_type": "code",
   "execution_count": 287,
   "metadata": {},
   "outputs": [
    {
     "data": {
      "text/plain": [
       "['Kolkata, Hyderabad/Secunderabad, Pune, Chennai, Bangalore/Bengaluru, Delhi / NCR',\n",
       " 'Bangalore/Bengaluru',\n",
       " 'Bangalore/Bengaluru',\n",
       " 'Bengaluru/Bangalore',\n",
       " 'Hyderabad/Secunderabad, Chennai, Bangalore/Bengaluru',\n",
       " 'Bangalore/Bengaluru',\n",
       " 'Bangalore/Bengaluru',\n",
       " 'Bengaluru/Bangalore',\n",
       " 'Chennai, Bangalore/Bengaluru, Mumbai (All Areas)\\n(WFH during Covid)',\n",
       " 'Bangalore/Bengaluru']"
      ]
     },
     "execution_count": 287,
     "metadata": {},
     "output_type": "execute_result"
    }
   ],
   "source": [
    "Location1=[]\n",
    "location1= driver.find_elements_by_xpath(\"//li[@class='fleft grey-text br2 placeHolderLi location']\")\n",
    "for i in location1:\n",
    "    Location1.append(i.text)\n",
    "Location1[:10]"
   ]
  },
  {
   "cell_type": "code",
   "execution_count": 288,
   "metadata": {},
   "outputs": [
    {
     "data": {
      "text/plain": [
       "['Solid grounding in at least one of the following is a must: Machine Learning, Deep Lear...',\n",
       " 'Experience using statistical computer language Python to manipulate data and draw insig...',\n",
       " 'Proficient in writing optimized query using any one of the DB query language (Hive / Im...',\n",
       " 'IntroductionSoftware Developers at IBM are the backbone of our strategic initiatives to...',\n",
       " 'Only Fresher Can Apply:.Description Good in analytics',\n",
       " 'Experience with multi threaded implementations utilizing computer units like multi core...',\n",
       " 'Proficient in writing optimized query using any one of the DB query language (Hive / Im...',\n",
       " 'PhD / Masters in STEM-related fields with knowledge in Quantum ComputingRequired Techni...',\n",
       " 'Minimum 3 year of experience in being Applied Machine Learning Engineer roleExperience ...',\n",
       " 'As a Senior Data Scientist for Walmart, you ll have the opportunity to: Drive data-deri...']"
      ]
     },
     "execution_count": 288,
     "metadata": {},
     "output_type": "execute_result"
    }
   ],
   "source": [
    "Description=[]\n",
    "description= driver.find_elements_by_xpath(\"//div[@class='job-description fs12 grey-text']\")\n",
    "for i in description:\n",
    "    Description.append(i.text)\n",
    "Description[:10]"
   ]
  },
  {
   "cell_type": "code",
   "execution_count": 289,
   "metadata": {},
   "outputs": [],
   "source": [
    "datascience_jobs= pd.DataFrame({})\n",
    "datascience_jobs['Title'] = job_title2[:10]\n",
    "datascience_jobs['Company name'] = company_name2[:10]\n",
    "datascience_jobs['Location'] = Location1[:10]\n",
    "datascience_jobs['Description'] = Description[:10]"
   ]
  },
  {
   "cell_type": "code",
   "execution_count": 290,
   "metadata": {},
   "outputs": [
    {
     "data": {
      "text/html": [
       "<div>\n",
       "<style scoped>\n",
       "    .dataframe tbody tr th:only-of-type {\n",
       "        vertical-align: middle;\n",
       "    }\n",
       "\n",
       "    .dataframe tbody tr th {\n",
       "        vertical-align: top;\n",
       "    }\n",
       "\n",
       "    .dataframe thead th {\n",
       "        text-align: right;\n",
       "    }\n",
       "</style>\n",
       "<table border=\"1\" class=\"dataframe\">\n",
       "  <thead>\n",
       "    <tr style=\"text-align: right;\">\n",
       "      <th></th>\n",
       "      <th>Title</th>\n",
       "      <th>Company name</th>\n",
       "      <th>Location</th>\n",
       "      <th>Description</th>\n",
       "    </tr>\n",
       "  </thead>\n",
       "  <tbody>\n",
       "    <tr>\n",
       "      <th>0</th>\n",
       "      <td>Hiring For Senior Data Scientist</td>\n",
       "      <td>Tata Consultancy Services Ltd.</td>\n",
       "      <td>Kolkata, Hyderabad/Secunderabad, Pune, Chennai...</td>\n",
       "      <td>Solid grounding in at least one of the followi...</td>\n",
       "    </tr>\n",
       "    <tr>\n",
       "      <th>1</th>\n",
       "      <td>Data Scientist</td>\n",
       "      <td>Brillio</td>\n",
       "      <td>Bangalore/Bengaluru</td>\n",
       "      <td>Experience using statistical computer language...</td>\n",
       "    </tr>\n",
       "    <tr>\n",
       "      <th>2</th>\n",
       "      <td>Data Scientist</td>\n",
       "      <td>Allegis Services India Pvt. Ltd.</td>\n",
       "      <td>Bangalore/Bengaluru</td>\n",
       "      <td>Proficient in writing optimized query using an...</td>\n",
       "    </tr>\n",
       "    <tr>\n",
       "      <th>3</th>\n",
       "      <td>Lead Data Scientist BFSI</td>\n",
       "      <td>IBM India Pvt. Limited</td>\n",
       "      <td>Bengaluru/Bangalore</td>\n",
       "      <td>IntroductionSoftware Developers at IBM are the...</td>\n",
       "    </tr>\n",
       "    <tr>\n",
       "      <th>4</th>\n",
       "      <td>Data Analyst / Data Scientist / Business Analy...</td>\n",
       "      <td>GABA Consultancy services</td>\n",
       "      <td>Hyderabad/Secunderabad, Chennai, Bangalore/Ben...</td>\n",
       "      <td>Only Fresher Can Apply:.Description Good in an...</td>\n",
       "    </tr>\n",
       "    <tr>\n",
       "      <th>5</th>\n",
       "      <td>Data Scientist - I / II</td>\n",
       "      <td>Sharechat</td>\n",
       "      <td>Bangalore/Bengaluru</td>\n",
       "      <td>Experience with multi threaded implementations...</td>\n",
       "    </tr>\n",
       "    <tr>\n",
       "      <th>6</th>\n",
       "      <td>Data Scientist</td>\n",
       "      <td>Allegis Services India Pvt. Ltd.</td>\n",
       "      <td>Bangalore/Bengaluru</td>\n",
       "      <td>Proficient in writing optimized query using an...</td>\n",
       "    </tr>\n",
       "    <tr>\n",
       "      <th>7</th>\n",
       "      <td>Data Scientist: Advanced Analytics</td>\n",
       "      <td>IBM India Pvt. Limited</td>\n",
       "      <td>Bengaluru/Bangalore</td>\n",
       "      <td>PhD / Masters in STEM-related fields with know...</td>\n",
       "    </tr>\n",
       "    <tr>\n",
       "      <th>8</th>\n",
       "      <td>Hiring For Data Scientist</td>\n",
       "      <td>Tata Consultancy Services Ltd.</td>\n",
       "      <td>Chennai, Bangalore/Bengaluru, Mumbai (All Area...</td>\n",
       "      <td>Minimum 3 year of experience in being Applied ...</td>\n",
       "    </tr>\n",
       "    <tr>\n",
       "      <th>9</th>\n",
       "      <td>Senior Data Scientist</td>\n",
       "      <td>Walmart Labs</td>\n",
       "      <td>Bangalore/Bengaluru</td>\n",
       "      <td>As a Senior Data Scientist for Walmart, you ll...</td>\n",
       "    </tr>\n",
       "  </tbody>\n",
       "</table>\n",
       "</div>"
      ],
      "text/plain": [
       "                                               Title  \\\n",
       "0                   Hiring For Senior Data Scientist   \n",
       "1                                     Data Scientist   \n",
       "2                                     Data Scientist   \n",
       "3                           Lead Data Scientist BFSI   \n",
       "4  Data Analyst / Data Scientist / Business Analy...   \n",
       "5                            Data Scientist - I / II   \n",
       "6                                     Data Scientist   \n",
       "7                 Data Scientist: Advanced Analytics   \n",
       "8                          Hiring For Data Scientist   \n",
       "9                              Senior Data Scientist   \n",
       "\n",
       "                       Company name  \\\n",
       "0    Tata Consultancy Services Ltd.   \n",
       "1                           Brillio   \n",
       "2  Allegis Services India Pvt. Ltd.   \n",
       "3            IBM India Pvt. Limited   \n",
       "4         GABA Consultancy services   \n",
       "5                         Sharechat   \n",
       "6  Allegis Services India Pvt. Ltd.   \n",
       "7            IBM India Pvt. Limited   \n",
       "8    Tata Consultancy Services Ltd.   \n",
       "9                      Walmart Labs   \n",
       "\n",
       "                                            Location  \\\n",
       "0  Kolkata, Hyderabad/Secunderabad, Pune, Chennai...   \n",
       "1                                Bangalore/Bengaluru   \n",
       "2                                Bangalore/Bengaluru   \n",
       "3                                Bengaluru/Bangalore   \n",
       "4  Hyderabad/Secunderabad, Chennai, Bangalore/Ben...   \n",
       "5                                Bangalore/Bengaluru   \n",
       "6                                Bangalore/Bengaluru   \n",
       "7                                Bengaluru/Bangalore   \n",
       "8  Chennai, Bangalore/Bengaluru, Mumbai (All Area...   \n",
       "9                                Bangalore/Bengaluru   \n",
       "\n",
       "                                         Description  \n",
       "0  Solid grounding in at least one of the followi...  \n",
       "1  Experience using statistical computer language...  \n",
       "2  Proficient in writing optimized query using an...  \n",
       "3  IntroductionSoftware Developers at IBM are the...  \n",
       "4  Only Fresher Can Apply:.Description Good in an...  \n",
       "5  Experience with multi threaded implementations...  \n",
       "6  Proficient in writing optimized query using an...  \n",
       "7  PhD / Masters in STEM-related fields with know...  \n",
       "8  Minimum 3 year of experience in being Applied ...  \n",
       "9  As a Senior Data Scientist for Walmart, you ll...  "
      ]
     },
     "execution_count": 290,
     "metadata": {},
     "output_type": "execute_result"
    }
   ],
   "source": [
    "datascience_jobs"
   ]
  },
  {
   "cell_type": "markdown",
   "metadata": {},
   "source": [
    "Question 3:"
   ]
  },
  {
   "cell_type": "code",
   "execution_count": 291,
   "metadata": {},
   "outputs": [],
   "source": [
    "driver=webdriver.Chrome(\"chromedriver.exe\") \n",
    "time.sleep(4)"
   ]
  },
  {
   "cell_type": "code",
   "execution_count": 292,
   "metadata": {},
   "outputs": [],
   "source": [
    "url = \"https://www.naukri.com/\"\n",
    "driver.get(url)\n",
    "time.sleep(6)"
   ]
  },
  {
   "cell_type": "code",
   "execution_count": 293,
   "metadata": {},
   "outputs": [],
   "source": [
    "search_field_designation=driver.find_element_by_id(\"qsb-keyword-sugg\")   \n",
    "search_field_designation.send_keys(\"Data Scientist\")"
   ]
  },
  {
   "cell_type": "code",
   "execution_count": 294,
   "metadata": {},
   "outputs": [],
   "source": [
    "search_button=driver.find_element_by_xpath(\"//div[@class='search-btn']/button\")\n",
    "search_button.click()"
   ]
  },
  {
   "cell_type": "code",
   "execution_count": 295,
   "metadata": {},
   "outputs": [],
   "source": [
    "job_title=[]\n",
    "job_location=[]\n",
    "company_name=[]\n",
    "experience_required=[]"
   ]
  },
  {
   "cell_type": "code",
   "execution_count": 297,
   "metadata": {},
   "outputs": [],
   "source": [
    "loc=driver.find_element_by_xpath(\"/html/body/div[1]/div[3]/div[2]/section[1]/div[2]/div[3]/div[2]/div[3]/label/p/span[1]\")\n",
    "loc.click()"
   ]
  },
  {
   "cell_type": "code",
   "execution_count": 298,
   "metadata": {},
   "outputs": [],
   "source": [
    "salary_chkbx=driver.find_element_by_xpath(\"/html/body/div[1]/div[3]/div[2]/section[1]/div[2]/div[4]/div[2]/div[2]/label/p/span[1]\")\n",
    "salary_chkbx.click()"
   ]
  },
  {
   "cell_type": "code",
   "execution_count": 302,
   "metadata": {},
   "outputs": [
    {
     "data": {
      "text/plain": [
       "['Data Scientist/ Machine Learning Engineer',\n",
       " 'Data Scientist / Data Analyst / Business Analytics - MNC Jobs Freshers',\n",
       " 'Data Scientist / Data Analyst',\n",
       " 'Only Fresher / Data Scientist / Data Analyst / Analytics - MNC Jobs',\n",
       " 'Data Scientist / Data Analyst / Business Analytics - MNC Jobs Freshers',\n",
       " 'Data Scientist',\n",
       " 'Data Scientist',\n",
       " 'Data Scientist - Insurance',\n",
       " 'Data Scientist - WFH - MIND Infotech',\n",
       " 'Junior Data Scientists & Engineers']"
      ]
     },
     "execution_count": 302,
     "metadata": {},
     "output_type": "execute_result"
    }
   ],
   "source": [
    "title=driver.find_elements_by_xpath(\"//a[@class='title fw500 ellipsis']\")\n",
    "for i in title[:10]:\n",
    "    job_title.append(i.text)\n",
    "job_title[:10]"
   ]
  },
  {
   "cell_type": "code",
   "execution_count": 304,
   "metadata": {},
   "outputs": [
    {
     "data": {
      "text/plain": [
       "['Creative Hands HR Consultancy',\n",
       " 'GABA Consultancy services',\n",
       " 'CARS24',\n",
       " 'GABA Consultancy services',\n",
       " 'GABA Consultancy services',\n",
       " 'R Systems International Ltd.',\n",
       " 'PROCESS NINE TECHNOLOGIES PVT.LTD.',\n",
       " 'Huquo Consulting Pvt. Ltd',\n",
       " 'MOTHERSONSUMI INFOTECH & DESIGNS LIMITED',\n",
       " 'PY Consultancy']"
      ]
     },
     "execution_count": 304,
     "metadata": {},
     "output_type": "execute_result"
    }
   ],
   "source": [
    "c_name=driver.find_elements_by_xpath(\"//a[@class='subTitle ellipsis fleft']\")\n",
    "for i in c_name:\n",
    "    company_name.append(i.text)\n",
    "company_name[:10]"
   ]
  },
  {
   "cell_type": "code",
   "execution_count": 307,
   "metadata": {},
   "outputs": [
    {
     "data": {
      "text/plain": [
       "['Hyderabad/Secunderabad, Pune, Ahmedabad, Gurgaon/Gurugram, Chennai, Bangalore/Bengaluru',\n",
       " 'Ghaziabad, Faridabad, Delhi / NCR',\n",
       " 'Gurgaon/Gurugram',\n",
       " 'Noida, Gurgaon/Gurugram, Delhi / NCR',\n",
       " 'Noida, New Delhi, Gurgaon/Gurugram',\n",
       " 'Noida\\n(WFH during Covid)',\n",
       " 'Gurgaon/Gurugram\\n(WFH during Covid)',\n",
       " 'Noida, Gurgaon/Gurugram',\n",
       " 'Pune, Chennai, Bangalore/Bengaluru, Delhi / NCR, Mumbai (All Areas)',\n",
       " 'New Delhi, Delhi / NCR']"
      ]
     },
     "execution_count": 307,
     "metadata": {},
     "output_type": "execute_result"
    }
   ],
   "source": [
    "location2=driver.find_elements_by_xpath(\"//li[@class='fleft grey-text br2 placeHolderLi location']\")\n",
    "for i in location2:\n",
    "    job_location.append(i.text)\n",
    "job_location[:10]"
   ]
  },
  {
   "cell_type": "code",
   "execution_count": 321,
   "metadata": {},
   "outputs": [
    {
     "data": {
      "text/plain": [
       "['0-0 Yrs',\n",
       " '0-0 Yrs',\n",
       " '1-5 Yrs',\n",
       " '0-0 Yrs',\n",
       " '0-0 Yrs',\n",
       " '3-6 Yrs',\n",
       " '1-3 Yrs',\n",
       " '2-7 Yrs',\n",
       " '3-7 Yrs',\n",
       " '0-3 Yrs']"
      ]
     },
     "execution_count": 321,
     "metadata": {},
     "output_type": "execute_result"
    }
   ],
   "source": [
    "exp=[]\n",
    "experience=driver.find_elements_by_xpath(\"//li[@class='fleft grey-text br2 placeHolderLi experience']/span[1]\")\n",
    "for i in experience:\n",
    "    exp.append(i.text)\n",
    "exp[:10]\n",
    "    "
   ]
  },
  {
   "cell_type": "code",
   "execution_count": 326,
   "metadata": {},
   "outputs": [
    {
     "data": {
      "text/html": [
       "<div>\n",
       "<style scoped>\n",
       "    .dataframe tbody tr th:only-of-type {\n",
       "        vertical-align: middle;\n",
       "    }\n",
       "\n",
       "    .dataframe tbody tr th {\n",
       "        vertical-align: top;\n",
       "    }\n",
       "\n",
       "    .dataframe thead th {\n",
       "        text-align: right;\n",
       "    }\n",
       "</style>\n",
       "<table border=\"1\" class=\"dataframe\">\n",
       "  <thead>\n",
       "    <tr style=\"text-align: right;\">\n",
       "      <th></th>\n",
       "      <th>job_title</th>\n",
       "      <th>experience_required</th>\n",
       "      <th>company_name</th>\n",
       "      <th>job_location</th>\n",
       "    </tr>\n",
       "  </thead>\n",
       "  <tbody>\n",
       "    <tr>\n",
       "      <th>0</th>\n",
       "      <td>Data Scientist/ Machine Learning Engineer</td>\n",
       "      <td>0-0 Yrs</td>\n",
       "      <td>Creative Hands HR Consultancy</td>\n",
       "      <td>Hyderabad/Secunderabad, Pune, Ahmedabad, Gurga...</td>\n",
       "    </tr>\n",
       "    <tr>\n",
       "      <th>1</th>\n",
       "      <td>Data Scientist / Data Analyst / Business Analy...</td>\n",
       "      <td>0-0 Yrs</td>\n",
       "      <td>GABA Consultancy services</td>\n",
       "      <td>Ghaziabad, Faridabad, Delhi / NCR</td>\n",
       "    </tr>\n",
       "    <tr>\n",
       "      <th>2</th>\n",
       "      <td>Data Scientist / Data Analyst</td>\n",
       "      <td>1-5 Yrs</td>\n",
       "      <td>CARS24</td>\n",
       "      <td>Gurgaon/Gurugram</td>\n",
       "    </tr>\n",
       "    <tr>\n",
       "      <th>3</th>\n",
       "      <td>Only Fresher / Data Scientist / Data Analyst /...</td>\n",
       "      <td>0-0 Yrs</td>\n",
       "      <td>GABA Consultancy services</td>\n",
       "      <td>Noida, Gurgaon/Gurugram, Delhi / NCR</td>\n",
       "    </tr>\n",
       "    <tr>\n",
       "      <th>4</th>\n",
       "      <td>Data Scientist / Data Analyst / Business Analy...</td>\n",
       "      <td>0-0 Yrs</td>\n",
       "      <td>GABA Consultancy services</td>\n",
       "      <td>Noida, New Delhi, Gurgaon/Gurugram</td>\n",
       "    </tr>\n",
       "    <tr>\n",
       "      <th>5</th>\n",
       "      <td>Data Scientist</td>\n",
       "      <td>3-6 Yrs</td>\n",
       "      <td>R Systems International Ltd.</td>\n",
       "      <td>Noida\\n(WFH during Covid)</td>\n",
       "    </tr>\n",
       "    <tr>\n",
       "      <th>6</th>\n",
       "      <td>Data Scientist</td>\n",
       "      <td>1-3 Yrs</td>\n",
       "      <td>PROCESS NINE TECHNOLOGIES PVT.LTD.</td>\n",
       "      <td>Gurgaon/Gurugram\\n(WFH during Covid)</td>\n",
       "    </tr>\n",
       "    <tr>\n",
       "      <th>7</th>\n",
       "      <td>Data Scientist - Insurance</td>\n",
       "      <td>2-7 Yrs</td>\n",
       "      <td>Huquo Consulting Pvt. Ltd</td>\n",
       "      <td>Noida, Gurgaon/Gurugram</td>\n",
       "    </tr>\n",
       "    <tr>\n",
       "      <th>8</th>\n",
       "      <td>Data Scientist - WFH - MIND Infotech</td>\n",
       "      <td>3-7 Yrs</td>\n",
       "      <td>MOTHERSONSUMI INFOTECH &amp; DESIGNS LIMITED</td>\n",
       "      <td>Pune, Chennai, Bangalore/Bengaluru, Delhi / NC...</td>\n",
       "    </tr>\n",
       "    <tr>\n",
       "      <th>9</th>\n",
       "      <td>Junior Data Scientists &amp; Engineers</td>\n",
       "      <td>0-3 Yrs</td>\n",
       "      <td>PY Consultancy</td>\n",
       "      <td>New Delhi, Delhi / NCR</td>\n",
       "    </tr>\n",
       "  </tbody>\n",
       "</table>\n",
       "</div>"
      ],
      "text/plain": [
       "                                           job_title experience_required  \\\n",
       "0          Data Scientist/ Machine Learning Engineer             0-0 Yrs   \n",
       "1  Data Scientist / Data Analyst / Business Analy...             0-0 Yrs   \n",
       "2                      Data Scientist / Data Analyst             1-5 Yrs   \n",
       "3  Only Fresher / Data Scientist / Data Analyst /...             0-0 Yrs   \n",
       "4  Data Scientist / Data Analyst / Business Analy...             0-0 Yrs   \n",
       "5                                     Data Scientist             3-6 Yrs   \n",
       "6                                     Data Scientist             1-3 Yrs   \n",
       "7                         Data Scientist - Insurance             2-7 Yrs   \n",
       "8               Data Scientist - WFH - MIND Infotech             3-7 Yrs   \n",
       "9                 Junior Data Scientists & Engineers             0-3 Yrs   \n",
       "\n",
       "                               company_name  \\\n",
       "0             Creative Hands HR Consultancy   \n",
       "1                 GABA Consultancy services   \n",
       "2                                    CARS24   \n",
       "3                 GABA Consultancy services   \n",
       "4                 GABA Consultancy services   \n",
       "5              R Systems International Ltd.   \n",
       "6        PROCESS NINE TECHNOLOGIES PVT.LTD.   \n",
       "7                 Huquo Consulting Pvt. Ltd   \n",
       "8  MOTHERSONSUMI INFOTECH & DESIGNS LIMITED   \n",
       "9                            PY Consultancy   \n",
       "\n",
       "                                        job_location  \n",
       "0  Hyderabad/Secunderabad, Pune, Ahmedabad, Gurga...  \n",
       "1                  Ghaziabad, Faridabad, Delhi / NCR  \n",
       "2                                   Gurgaon/Gurugram  \n",
       "3               Noida, Gurgaon/Gurugram, Delhi / NCR  \n",
       "4                 Noida, New Delhi, Gurgaon/Gurugram  \n",
       "5                          Noida\\n(WFH during Covid)  \n",
       "6               Gurgaon/Gurugram\\n(WFH during Covid)  \n",
       "7                            Noida, Gurgaon/Gurugram  \n",
       "8  Pune, Chennai, Bangalore/Bengaluru, Delhi / NC...  \n",
       "9                             New Delhi, Delhi / NCR  "
      ]
     },
     "execution_count": 326,
     "metadata": {},
     "output_type": "execute_result"
    }
   ],
   "source": [
    "df=pd.DataFrame({})\n",
    "df['job_title']=job_title[:10]\n",
    "df['experience_required']=exp[:10]\n",
    "df['company_name']=company_name[:10]\n",
    "df['job_location']=job_location[:10]\n",
    "df"
   ]
  },
  {
   "cell_type": "markdown",
   "metadata": {},
   "source": [
    "Question 4:"
   ]
  },
  {
   "cell_type": "code",
   "execution_count": 338,
   "metadata": {},
   "outputs": [],
   "source": [
    "driver=webdriver.Chrome(\"chromedriver.exe\") \n",
    "\n",
    "\n",
    "url = \"https://www.glassdoor.co.in/member/home/index.htm\"\n",
    "driver.get(url)"
   ]
  },
  {
   "cell_type": "code",
   "execution_count": 339,
   "metadata": {},
   "outputs": [],
   "source": [
    "search_job = driver.find_element_by_xpath('//input[@id=\"sc.keyword\"]')\n",
    "search_job.send_keys(\"Data Scientist\")"
   ]
  },
  {
   "cell_type": "code",
   "execution_count": 340,
   "metadata": {},
   "outputs": [],
   "source": [
    "search_loc = driver.find_element_by_xpath('//input[@id=\"sc.location\"]')\n",
    "search_loc.send_keys(\"Noida\")"
   ]
  },
  {
   "cell_type": "code",
   "execution_count": 341,
   "metadata": {},
   "outputs": [],
   "source": [
    "search_btn = driver.find_element_by_xpath('//button[@class=\"gd-ui-button ml-std col-auto search__SearchStyles__newSearchButton css-1dqvyh7\"]')\n",
    "search_btn.click()"
   ]
  },
  {
   "cell_type": "code",
   "execution_count": 356,
   "metadata": {},
   "outputs": [
    {
     "data": {
      "text/plain": [
       "['Data Analytics part time job/internship at Noida',\n",
       " 'Data Scientist',\n",
       " 'Associate Data Scientist',\n",
       " 'Data Scientist',\n",
       " 'Data Scientist Intern',\n",
       " 'Data Scientist',\n",
       " 'Data Scientist',\n",
       " 'Data Scientist',\n",
       " 'Data Scientist',\n",
       " 'Data Scientist']"
      ]
     },
     "execution_count": 356,
     "metadata": {},
     "output_type": "execute_result"
    }
   ],
   "source": [
    "name=[]\n",
    "job_names = driver.find_elements_by_xpath(\"//a[@class='jobLink job-search-key-1rd3saf eigr9kq1']/span[1]\")\n",
    "for i in job_names:\n",
    "    name.append(i.text)\n",
    "name[:10]"
   ]
  },
  {
   "cell_type": "code",
   "execution_count": 357,
   "metadata": {},
   "outputs": [],
   "source": [
    "job_age = driver.find_elements_by_xpath('//div[@data-test=\"job-age\"]')\n",
    "time = []\n",
    "for i in job_age[:10]:\n",
    "    time.append(i.text)"
   ]
  },
  {
   "cell_type": "code",
   "execution_count": 359,
   "metadata": {},
   "outputs": [
    {
     "data": {
      "text/plain": [
       "['5d', '20d', '30d+', '30d+', '30d+', '7d', '30d+', '15d', '30d+', '30d+']"
      ]
     },
     "execution_count": 359,
     "metadata": {},
     "output_type": "execute_result"
    }
   ],
   "source": [
    "time[:10]"
   ]
  },
  {
   "cell_type": "code",
   "execution_count": 367,
   "metadata": {},
   "outputs": [
    {
     "data": {
      "text/plain": [
       "['3.9', '3.9', '3.6', '4.2', '3.3', '4.1', '3.8', '3.5', '3.0', '5.0']"
      ]
     },
     "execution_count": 367,
     "metadata": {},
     "output_type": "execute_result"
    }
   ],
   "source": [
    "job_rating = driver.find_elements_by_xpath('//span[@class=\" job-search-key-srfzj0 e1cjmv6j0\"]')\n",
    "rating = []\n",
    "for i in job_rating[:10]:\n",
    "    rating.append(i.text)\n",
    "    \n",
    "rating"
   ]
  },
  {
   "cell_type": "code",
   "execution_count": 369,
   "metadata": {},
   "outputs": [
    {
     "data": {
      "text/html": [
       "<div>\n",
       "<style scoped>\n",
       "    .dataframe tbody tr th:only-of-type {\n",
       "        vertical-align: middle;\n",
       "    }\n",
       "\n",
       "    .dataframe tbody tr th {\n",
       "        vertical-align: top;\n",
       "    }\n",
       "\n",
       "    .dataframe thead th {\n",
       "        text-align: right;\n",
       "    }\n",
       "</style>\n",
       "<table border=\"1\" class=\"dataframe\">\n",
       "  <thead>\n",
       "    <tr style=\"text-align: right;\">\n",
       "      <th></th>\n",
       "      <th>Company Name</th>\n",
       "      <th>Job posted duration</th>\n",
       "      <th>Rating</th>\n",
       "    </tr>\n",
       "  </thead>\n",
       "  <tbody>\n",
       "    <tr>\n",
       "      <th>0</th>\n",
       "      <td>Data Analytics part time job/internship at Noida</td>\n",
       "      <td>5d</td>\n",
       "      <td>3.9</td>\n",
       "    </tr>\n",
       "    <tr>\n",
       "      <th>1</th>\n",
       "      <td>Data Scientist</td>\n",
       "      <td>20d</td>\n",
       "      <td>3.9</td>\n",
       "    </tr>\n",
       "    <tr>\n",
       "      <th>2</th>\n",
       "      <td>Associate Data Scientist</td>\n",
       "      <td>30d+</td>\n",
       "      <td>3.6</td>\n",
       "    </tr>\n",
       "    <tr>\n",
       "      <th>3</th>\n",
       "      <td>Data Scientist</td>\n",
       "      <td>30d+</td>\n",
       "      <td>4.2</td>\n",
       "    </tr>\n",
       "    <tr>\n",
       "      <th>4</th>\n",
       "      <td>Data Scientist Intern</td>\n",
       "      <td>30d+</td>\n",
       "      <td>3.3</td>\n",
       "    </tr>\n",
       "    <tr>\n",
       "      <th>5</th>\n",
       "      <td>Data Scientist</td>\n",
       "      <td>7d</td>\n",
       "      <td>4.1</td>\n",
       "    </tr>\n",
       "    <tr>\n",
       "      <th>6</th>\n",
       "      <td>Data Scientist</td>\n",
       "      <td>30d+</td>\n",
       "      <td>3.8</td>\n",
       "    </tr>\n",
       "    <tr>\n",
       "      <th>7</th>\n",
       "      <td>Data Scientist</td>\n",
       "      <td>15d</td>\n",
       "      <td>3.5</td>\n",
       "    </tr>\n",
       "    <tr>\n",
       "      <th>8</th>\n",
       "      <td>Data Scientist</td>\n",
       "      <td>30d+</td>\n",
       "      <td>3.0</td>\n",
       "    </tr>\n",
       "    <tr>\n",
       "      <th>9</th>\n",
       "      <td>Data Scientist</td>\n",
       "      <td>30d+</td>\n",
       "      <td>5.0</td>\n",
       "    </tr>\n",
       "  </tbody>\n",
       "</table>\n",
       "</div>"
      ],
      "text/plain": [
       "                                       Company Name Job posted duration Rating\n",
       "0  Data Analytics part time job/internship at Noida                  5d    3.9\n",
       "1                                    Data Scientist                 20d    3.9\n",
       "2                          Associate Data Scientist                30d+    3.6\n",
       "3                                    Data Scientist                30d+    4.2\n",
       "4                             Data Scientist Intern                30d+    3.3\n",
       "5                                    Data Scientist                  7d    4.1\n",
       "6                                    Data Scientist                30d+    3.8\n",
       "7                                    Data Scientist                 15d    3.5\n",
       "8                                    Data Scientist                30d+    3.0\n",
       "9                                    Data Scientist                30d+    5.0"
      ]
     },
     "execution_count": 369,
     "metadata": {},
     "output_type": "execute_result"
    }
   ],
   "source": [
    "df = pd.DataFrame({})\n",
    "df['Company Name']=name[:10]\n",
    "df['Job posted duration']=time[:10]\n",
    "df['Rating']=rating[:10]\n",
    "df"
   ]
  },
  {
   "cell_type": "markdown",
   "metadata": {},
   "source": [
    "Question 5:"
   ]
  },
  {
   "cell_type": "code",
   "execution_count": 370,
   "metadata": {},
   "outputs": [],
   "source": [
    "driver= webdriver.Chrome(\"chromedriver.exe\")\n",
    "\n",
    "url=\"https://www.glassdoor.co.in/Salaries/index.htm\"\n",
    "driver.get(url)\n"
   ]
  },
  {
   "cell_type": "code",
   "execution_count": 371,
   "metadata": {},
   "outputs": [],
   "source": [
    "search_job= driver.find_element_by_id('KeywordSearch')\n",
    "\n",
    "search_job.send_keys('Data Scientist')"
   ]
  },
  {
   "cell_type": "code",
   "execution_count": 372,
   "metadata": {},
   "outputs": [],
   "source": [
    "search_loc= driver.find_element_by_id('LocationSearch')\n",
    "search_loc.send_keys('Noida')"
   ]
  },
  {
   "cell_type": "code",
   "execution_count": 373,
   "metadata": {},
   "outputs": [],
   "source": [
    "search_button= driver.find_element_by_xpath(\"//button[@class='gd-btn-mkt']\")\n",
    "search_button.click()"
   ]
  },
  {
   "cell_type": "code",
   "execution_count": 387,
   "metadata": {},
   "outputs": [],
   "source": [
    "title =[]\n",
    "company =[]\n",
    "minsal =[]\n",
    "maxsal =[]\n",
    "avgsal =[]"
   ]
  },
  {
   "cell_type": "code",
   "execution_count": 388,
   "metadata": {},
   "outputs": [],
   "source": [
    "title_tag= driver.find_elements_by_xpath(\"//a[@class='css-f3vw95 e1aj7ssy3']\")"
   ]
  },
  {
   "cell_type": "code",
   "execution_count": 389,
   "metadata": {},
   "outputs": [],
   "source": [
    "for i in title_tag:\n",
    "    title.append(i.text)"
   ]
  },
  {
   "cell_type": "code",
   "execution_count": 391,
   "metadata": {},
   "outputs": [
    {
     "data": {
      "text/plain": [
       "['Tata Consultancy Services',\n",
       " 'IBM',\n",
       " 'Accenture',\n",
       " 'Delhivery',\n",
       " 'Ericsson-Worldwide',\n",
       " 'UnitedHealth Group',\n",
       " 'Optum',\n",
       " 'Optum Global Solutions',\n",
       " 'Valiance Solutions',\n",
       " 'EXL Service']"
      ]
     },
     "execution_count": 391,
     "metadata": {},
     "output_type": "execute_result"
    }
   ],
   "source": [
    "title[:10]"
   ]
  },
  {
   "cell_type": "code",
   "execution_count": 400,
   "metadata": {},
   "outputs": [],
   "source": [
    "avg_sal = driver.find_elements_by_xpath(\"//div[@class='col-12 col-lg-4 px-lg-0 d-flex align-items-baseline']//h3\")"
   ]
  },
  {
   "cell_type": "code",
   "execution_count": 401,
   "metadata": {},
   "outputs": [
    {
     "data": {
      "text/plain": [
       "['₹6,28,021',\n",
       " '₹9,08,246',\n",
       " '₹11,93,390',\n",
       " '₹xx,xx,xxx',\n",
       " '₹x,xx,xxx',\n",
       " '₹xx,xx,xxx',\n",
       " '₹xx,xx,xxx',\n",
       " '₹xx,xx,xxx',\n",
       " '₹x,xx,xxx',\n",
       " '₹xx,xx,xxx']"
      ]
     },
     "execution_count": 401,
     "metadata": {},
     "output_type": "execute_result"
    }
   ],
   "source": [
    "\n",
    "for i in avg_sal:\n",
    "    avgsal.append(i.text)\n",
    "\n",
    "#Displaying top 10 search.\n",
    "avgsal[:10]"
   ]
  },
  {
   "cell_type": "code",
   "execution_count": 405,
   "metadata": {},
   "outputs": [],
   "source": [
    "\n",
    "salarymin= driver.find_elements_by_xpath(\"//span[@class='d-block d-lg-none m-0 css-1b6bxoo']\")"
   ]
  },
  {
   "cell_type": "code",
   "execution_count": 406,
   "metadata": {},
   "outputs": [
    {
     "data": {
      "text/plain": [
       "['Range: ₹4L - ₹13L',\n",
       " 'Range: ₹1L - ₹28L',\n",
       " 'Range: ₹6L - ₹23L',\n",
       " 'Range: ₹xL - ₹xCr',\n",
       " 'Range: ₹xL - ₹xxL',\n",
       " 'Range: ₹xL - ₹xxL',\n",
       " 'Range: ₹xL - ₹xxL',\n",
       " 'Range: ₹xxL - ₹xxL',\n",
       " 'Range: ₹xL - ₹xxL',\n",
       " 'Range: ₹xL - ₹xxL']"
      ]
     },
     "execution_count": 406,
     "metadata": {},
     "output_type": "execute_result"
    }
   ],
   "source": [
    "\n",
    "for i in salarymin:\n",
    "    minsal.append(i.text)\n",
    "\n",
    "\n",
    "minsal[:10]"
   ]
  },
  {
   "cell_type": "code",
   "execution_count": 412,
   "metadata": {},
   "outputs": [
    {
     "data": {
      "text/html": [
       "<div>\n",
       "<style scoped>\n",
       "    .dataframe tbody tr th:only-of-type {\n",
       "        vertical-align: middle;\n",
       "    }\n",
       "\n",
       "    .dataframe tbody tr th {\n",
       "        vertical-align: top;\n",
       "    }\n",
       "\n",
       "    .dataframe thead th {\n",
       "        text-align: right;\n",
       "    }\n",
       "</style>\n",
       "<table border=\"1\" class=\"dataframe\">\n",
       "  <thead>\n",
       "    <tr style=\"text-align: right;\">\n",
       "      <th></th>\n",
       "      <th>Title</th>\n",
       "      <th>Average salary</th>\n",
       "      <th>min-max salary range</th>\n",
       "    </tr>\n",
       "  </thead>\n",
       "  <tbody>\n",
       "    <tr>\n",
       "      <th>0</th>\n",
       "      <td>Tata Consultancy Services</td>\n",
       "      <td>₹6,28,021</td>\n",
       "      <td>Range: ₹4L - ₹13L</td>\n",
       "    </tr>\n",
       "    <tr>\n",
       "      <th>1</th>\n",
       "      <td>IBM</td>\n",
       "      <td>₹9,08,246</td>\n",
       "      <td>Range: ₹1L - ₹28L</td>\n",
       "    </tr>\n",
       "    <tr>\n",
       "      <th>2</th>\n",
       "      <td>Accenture</td>\n",
       "      <td>₹11,93,390</td>\n",
       "      <td>Range: ₹6L - ₹23L</td>\n",
       "    </tr>\n",
       "    <tr>\n",
       "      <th>3</th>\n",
       "      <td>Delhivery</td>\n",
       "      <td>₹xx,xx,xxx</td>\n",
       "      <td>Range: ₹xL - ₹xCr</td>\n",
       "    </tr>\n",
       "    <tr>\n",
       "      <th>4</th>\n",
       "      <td>Ericsson-Worldwide</td>\n",
       "      <td>₹x,xx,xxx</td>\n",
       "      <td>Range: ₹xL - ₹xxL</td>\n",
       "    </tr>\n",
       "    <tr>\n",
       "      <th>5</th>\n",
       "      <td>UnitedHealth Group</td>\n",
       "      <td>₹xx,xx,xxx</td>\n",
       "      <td>Range: ₹xL - ₹xxL</td>\n",
       "    </tr>\n",
       "    <tr>\n",
       "      <th>6</th>\n",
       "      <td>Optum</td>\n",
       "      <td>₹xx,xx,xxx</td>\n",
       "      <td>Range: ₹xL - ₹xxL</td>\n",
       "    </tr>\n",
       "    <tr>\n",
       "      <th>7</th>\n",
       "      <td>Optum Global Solutions</td>\n",
       "      <td>₹xx,xx,xxx</td>\n",
       "      <td>Range: ₹xxL - ₹xxL</td>\n",
       "    </tr>\n",
       "    <tr>\n",
       "      <th>8</th>\n",
       "      <td>Valiance Solutions</td>\n",
       "      <td>₹x,xx,xxx</td>\n",
       "      <td>Range: ₹xL - ₹xxL</td>\n",
       "    </tr>\n",
       "    <tr>\n",
       "      <th>9</th>\n",
       "      <td>EXL Service</td>\n",
       "      <td>₹xx,xx,xxx</td>\n",
       "      <td>Range: ₹xL - ₹xxL</td>\n",
       "    </tr>\n",
       "  </tbody>\n",
       "</table>\n",
       "</div>"
      ],
      "text/plain": [
       "                       Title Average salary min-max salary range\n",
       "0  Tata Consultancy Services      ₹6,28,021    Range: ₹4L - ₹13L\n",
       "1                        IBM      ₹9,08,246    Range: ₹1L - ₹28L\n",
       "2                  Accenture     ₹11,93,390    Range: ₹6L - ₹23L\n",
       "3                  Delhivery     ₹xx,xx,xxx    Range: ₹xL - ₹xCr\n",
       "4         Ericsson-Worldwide      ₹x,xx,xxx    Range: ₹xL - ₹xxL\n",
       "5         UnitedHealth Group     ₹xx,xx,xxx    Range: ₹xL - ₹xxL\n",
       "6                      Optum     ₹xx,xx,xxx    Range: ₹xL - ₹xxL\n",
       "7     Optum Global Solutions     ₹xx,xx,xxx   Range: ₹xxL - ₹xxL\n",
       "8         Valiance Solutions      ₹x,xx,xxx    Range: ₹xL - ₹xxL\n",
       "9                EXL Service     ₹xx,xx,xxx    Range: ₹xL - ₹xxL"
      ]
     },
     "execution_count": 412,
     "metadata": {},
     "output_type": "execute_result"
    }
   ],
   "source": [
    "df= pd.DataFrame({})\n",
    "df['Title'] = title[:10]\n",
    "\n",
    "df['Average salary'] = avgsal[:10]\n",
    "df['min-max salary range']=minsal[:10]\n",
    "\n",
    "df"
   ]
  },
  {
   "cell_type": "markdown",
   "metadata": {},
   "source": [
    "Question 6:"
   ]
  },
  {
   "cell_type": "code",
   "execution_count": 218,
   "metadata": {},
   "outputs": [],
   "source": [
    "import time\n",
    "driver= webdriver.Chrome(\"chromedriver.exe\")\n",
    "\n",
    "url=\"https://www.flipkart.com/\"\n",
    "driver.get(url)"
   ]
  },
  {
   "cell_type": "code",
   "execution_count": 219,
   "metadata": {},
   "outputs": [],
   "source": [
    "search_bar= driver.find_element_by_name(\"q\")\n",
    "search_bar.send_keys(\"sunglasses\")"
   ]
  },
  {
   "cell_type": "code",
   "execution_count": 220,
   "metadata": {},
   "outputs": [],
   "source": [
    "search_but= driver.find_element_by_xpath(\"//button[@class='L0Z3Pu']\")\n",
    "search_but.click()"
   ]
  },
  {
   "cell_type": "code",
   "execution_count": 221,
   "metadata": {},
   "outputs": [],
   "source": [
    "brand =[]\n",
    "details =[]\n",
    "price =[]\n",
    "discount =[]"
   ]
  },
  {
   "cell_type": "code",
   "execution_count": 222,
   "metadata": {},
   "outputs": [],
   "source": [
    "urls =[]\n",
    "for i in range(0,3):\n",
    "    for j in driver.find_elements_by_xpath(\"//nav[@class='yFHi8N']/a\"):\n",
    "        urls.append(j.get_attribute('href'))\n",
    "    driver.find_element_by_xpath(\"//a[@class='_1LKTO3']\").click()\n",
    "    time.sleep(4)"
   ]
  },
  {
   "cell_type": "code",
   "execution_count": 223,
   "metadata": {},
   "outputs": [],
   "source": [
    "for i in range(0,3):\n",
    "    for j in driver.find_elements_by_xpath(\"//div[@class= '_2WkVRV']\"):\n",
    "        brand.append(j.text)\n",
    "    for k in driver.find_elements_by_xpath(\"//a[@class='IRpwTa']\"):\n",
    "        details.append(k.text)\n",
    "    for m in driver.find_elements_by_xpath(\"//div[@class='_30jeq3']\"):\n",
    "        price.append(m.text)\n",
    "    for n in driver.find_elements_by_xpath(\"//div[@class='_3Ay6Sb']\"):\n",
    "        discount.append(n.text)\n",
    "    driver.find_element_by_xpath(\"//a[@class='_1LKTO3']\").click()\n",
    "    time.sleep(4)"
   ]
  },
  {
   "cell_type": "code",
   "execution_count": 225,
   "metadata": {},
   "outputs": [],
   "source": [
    "sunglass_data=pd.DataFrame({})\n",
    "sunglass_data['Brand']= brand[:100]\n",
    "sunglass_data['Product Details'] = details[:100]\n",
    "sunglass_data['Price']= price[:100]\n",
    "sunglass_data['Discount']= discount[:100]"
   ]
  },
  {
   "cell_type": "code",
   "execution_count": 226,
   "metadata": {},
   "outputs": [
    {
     "data": {
      "text/html": [
       "<div>\n",
       "<style scoped>\n",
       "    .dataframe tbody tr th:only-of-type {\n",
       "        vertical-align: middle;\n",
       "    }\n",
       "\n",
       "    .dataframe tbody tr th {\n",
       "        vertical-align: top;\n",
       "    }\n",
       "\n",
       "    .dataframe thead th {\n",
       "        text-align: right;\n",
       "    }\n",
       "</style>\n",
       "<table border=\"1\" class=\"dataframe\">\n",
       "  <thead>\n",
       "    <tr style=\"text-align: right;\">\n",
       "      <th></th>\n",
       "      <th>Brand</th>\n",
       "      <th>Product Details</th>\n",
       "      <th>Price</th>\n",
       "      <th>Discount</th>\n",
       "    </tr>\n",
       "  </thead>\n",
       "  <tbody>\n",
       "    <tr>\n",
       "      <th>0</th>\n",
       "      <td>Singco India</td>\n",
       "      <td>UV Protection Aviator Sunglasses (Free Size)</td>\n",
       "      <td>₹334</td>\n",
       "      <td>72% off</td>\n",
       "    </tr>\n",
       "    <tr>\n",
       "      <th>1</th>\n",
       "      <td>Fastrack</td>\n",
       "      <td>UV Protection Wayfarer Sunglasses (Free Size)</td>\n",
       "      <td>₹854</td>\n",
       "      <td>5% off</td>\n",
       "    </tr>\n",
       "    <tr>\n",
       "      <th>2</th>\n",
       "      <td>Fastrack</td>\n",
       "      <td>UV Protection Aviator Sunglasses (58)</td>\n",
       "      <td>₹1,239</td>\n",
       "      <td>4% off</td>\n",
       "    </tr>\n",
       "    <tr>\n",
       "      <th>3</th>\n",
       "      <td>ROYAL SON</td>\n",
       "      <td>Polarized Retro Square Sunglasses (58)</td>\n",
       "      <td>₹854</td>\n",
       "      <td>57% off</td>\n",
       "    </tr>\n",
       "    <tr>\n",
       "      <th>4</th>\n",
       "      <td>OCCARIO</td>\n",
       "      <td>Others Round Sunglasses (52)</td>\n",
       "      <td>₹179</td>\n",
       "      <td>69% off</td>\n",
       "    </tr>\n",
       "    <tr>\n",
       "      <th>...</th>\n",
       "      <td>...</td>\n",
       "      <td>...</td>\n",
       "      <td>...</td>\n",
       "      <td>...</td>\n",
       "    </tr>\n",
       "    <tr>\n",
       "      <th>95</th>\n",
       "      <td>ROZZETTA CRAFT</td>\n",
       "      <td>UV Protection, Gradient Retro Square Sunglasse...</td>\n",
       "      <td>₹449</td>\n",
       "      <td>77% off</td>\n",
       "    </tr>\n",
       "    <tr>\n",
       "      <th>96</th>\n",
       "      <td>PIRASO</td>\n",
       "      <td>UV Protection Aviator Sunglasses (Free Size)</td>\n",
       "      <td>₹331</td>\n",
       "      <td>79% off</td>\n",
       "    </tr>\n",
       "    <tr>\n",
       "      <th>97</th>\n",
       "      <td>kingsunglasses</td>\n",
       "      <td>UV Protection Rectangular Sunglasses (Free Size)</td>\n",
       "      <td>₹217</td>\n",
       "      <td>80% off</td>\n",
       "    </tr>\n",
       "    <tr>\n",
       "      <th>98</th>\n",
       "      <td>ROYAL SON</td>\n",
       "      <td>Mirrored Aviator Sunglasses (55)</td>\n",
       "      <td>₹379</td>\n",
       "      <td>74% off</td>\n",
       "    </tr>\n",
       "    <tr>\n",
       "      <th>99</th>\n",
       "      <td>Singco India</td>\n",
       "      <td>UV Protection, Riding Glasses, Others Aviator,...</td>\n",
       "      <td>₹225</td>\n",
       "      <td>67% off</td>\n",
       "    </tr>\n",
       "  </tbody>\n",
       "</table>\n",
       "<p>100 rows × 4 columns</p>\n",
       "</div>"
      ],
      "text/plain": [
       "             Brand                                    Product Details   Price  \\\n",
       "0     Singco India       UV Protection Aviator Sunglasses (Free Size)    ₹334   \n",
       "1         Fastrack      UV Protection Wayfarer Sunglasses (Free Size)    ₹854   \n",
       "2         Fastrack              UV Protection Aviator Sunglasses (58)  ₹1,239   \n",
       "3        ROYAL SON             Polarized Retro Square Sunglasses (58)    ₹854   \n",
       "4          OCCARIO                       Others Round Sunglasses (52)    ₹179   \n",
       "..             ...                                                ...     ...   \n",
       "95  ROZZETTA CRAFT  UV Protection, Gradient Retro Square Sunglasse...    ₹449   \n",
       "96          PIRASO       UV Protection Aviator Sunglasses (Free Size)    ₹331   \n",
       "97  kingsunglasses   UV Protection Rectangular Sunglasses (Free Size)    ₹217   \n",
       "98       ROYAL SON                   Mirrored Aviator Sunglasses (55)    ₹379   \n",
       "99    Singco India  UV Protection, Riding Glasses, Others Aviator,...    ₹225   \n",
       "\n",
       "   Discount  \n",
       "0   72% off  \n",
       "1    5% off  \n",
       "2    4% off  \n",
       "3   57% off  \n",
       "4   69% off  \n",
       "..      ...  \n",
       "95  77% off  \n",
       "96  79% off  \n",
       "97  80% off  \n",
       "98  74% off  \n",
       "99  67% off  \n",
       "\n",
       "[100 rows x 4 columns]"
      ]
     },
     "execution_count": 226,
     "metadata": {},
     "output_type": "execute_result"
    }
   ],
   "source": [
    "sunglass_data"
   ]
  },
  {
   "cell_type": "markdown",
   "metadata": {},
   "source": [
    "Question 7:"
   ]
  },
  {
   "cell_type": "code",
   "execution_count": 417,
   "metadata": {},
   "outputs": [],
   "source": [
    "import time\n",
    "driver= webdriver.Chrome(\"chromedriver.exe\")\n",
    "url = \"https://www.flipkart.com/apple-iphone-11-black-64-gb-includes-earpods-power-adapter/product-reviews/itm0f37c2240b217?pid=MOBFKCTSVZAXUHGR&lid=LSTMOBFKCTSVZAXUHGREPBFGI&marketplace=FLIPKART\"\n",
    "driver.get(url)"
   ]
  },
  {
   "cell_type": "code",
   "execution_count": 422,
   "metadata": {},
   "outputs": [],
   "source": [
    "url = driver.find_elements_by_xpath('//nav[@class=\"yFHi8N\"]//a')\n",
    "prod_urls=[]\n",
    "for i in url[:11]:\n",
    "    prod_urls.append(i.get_attribute('href'))"
   ]
  },
  {
   "cell_type": "code",
   "execution_count": 423,
   "metadata": {},
   "outputs": [],
   "source": [
    "phone_rating = []\n",
    "for i in prod_urls:\n",
    "    driver.get(i)\n",
    "    try:\n",
    "        prod_rating = driver.find_elements_by_xpath('//div[@class=\"_3LWZlK _1BLPMq\"]')\n",
    "        for j in prod_rating:\n",
    "            phone_rating.append(j.text)\n",
    "    except:\n",
    "        phone_rating.append(\"---\")"
   ]
  },
  {
   "cell_type": "code",
   "execution_count": 424,
   "metadata": {},
   "outputs": [],
   "source": [
    "phone_summary = []\n",
    "for i in prod_urls:\n",
    "    driver.get(i)\n",
    "    try:\n",
    "        prod_summaries = driver.find_elements_by_xpath('//p[@class=\"_2-N8zT\"]')\n",
    "        for j in prod_summaries:\n",
    "            phone_summary.append(j.text)\n",
    "    except:\n",
    "        phone_summary.append(\"---\")"
   ]
  },
  {
   "cell_type": "code",
   "execution_count": 425,
   "metadata": {},
   "outputs": [],
   "source": [
    "full_review = []\n",
    "for i in prod_urls:\n",
    "    driver.get(i)\n",
    "    try:\n",
    "        prod_reviews = driver.find_elements_by_xpath('//div[@class=\"t-ZTKy\"]')\n",
    "        for j in prod_reviews:\n",
    "            full_review.append(j.text.replace(\"\\n\",\" \"))\n",
    "    except:\n",
    "        full_review.append(\"---\")"
   ]
  },
  {
   "cell_type": "code",
   "execution_count": 426,
   "metadata": {},
   "outputs": [
    {
     "data": {
      "text/html": [
       "<div>\n",
       "<style scoped>\n",
       "    .dataframe tbody tr th:only-of-type {\n",
       "        vertical-align: middle;\n",
       "    }\n",
       "\n",
       "    .dataframe tbody tr th {\n",
       "        vertical-align: top;\n",
       "    }\n",
       "\n",
       "    .dataframe thead th {\n",
       "        text-align: right;\n",
       "    }\n",
       "</style>\n",
       "<table border=\"1\" class=\"dataframe\">\n",
       "  <thead>\n",
       "    <tr style=\"text-align: right;\">\n",
       "      <th></th>\n",
       "      <th>iPhone Rating</th>\n",
       "      <th>iPhone Short Summary</th>\n",
       "      <th>iPhone Full Review</th>\n",
       "    </tr>\n",
       "  </thead>\n",
       "  <tbody>\n",
       "    <tr>\n",
       "      <th>0</th>\n",
       "      <td>5</td>\n",
       "      <td>Brilliant</td>\n",
       "      <td>The Best Phone for the Money  The iPhone 11 of...</td>\n",
       "    </tr>\n",
       "    <tr>\n",
       "      <th>1</th>\n",
       "      <td>5</td>\n",
       "      <td>Simply awesome</td>\n",
       "      <td>Really satisfied with the Product I received.....</td>\n",
       "    </tr>\n",
       "    <tr>\n",
       "      <th>2</th>\n",
       "      <td>5</td>\n",
       "      <td>Best in the market!</td>\n",
       "      <td>Great iPhone very snappy experience as apple k...</td>\n",
       "    </tr>\n",
       "    <tr>\n",
       "      <th>3</th>\n",
       "      <td>5</td>\n",
       "      <td>Perfect product!</td>\n",
       "      <td>Amazing phone with great cameras and better ba...</td>\n",
       "    </tr>\n",
       "    <tr>\n",
       "      <th>4</th>\n",
       "      <td>5</td>\n",
       "      <td>Fabulous!</td>\n",
       "      <td>This is my first iOS phone. I am very happy wi...</td>\n",
       "    </tr>\n",
       "    <tr>\n",
       "      <th>...</th>\n",
       "      <td>...</td>\n",
       "      <td>...</td>\n",
       "      <td>...</td>\n",
       "    </tr>\n",
       "    <tr>\n",
       "      <th>95</th>\n",
       "      <td>5</td>\n",
       "      <td>Just wow!</td>\n",
       "      <td>The ultimate performance Camera is superb The ...</td>\n",
       "    </tr>\n",
       "    <tr>\n",
       "      <th>96</th>\n",
       "      <td>3</td>\n",
       "      <td>Terrific purchase</td>\n",
       "      <td>I use a Note10+ and have been using both iOS a...</td>\n",
       "    </tr>\n",
       "    <tr>\n",
       "      <th>97</th>\n",
       "      <td>5</td>\n",
       "      <td>Awesome</td>\n",
       "      <td>The phone is completely good As far as camera ...</td>\n",
       "    </tr>\n",
       "    <tr>\n",
       "      <th>98</th>\n",
       "      <td>5</td>\n",
       "      <td>Decent product</td>\n",
       "      <td>Everything u ll like it when u use this iPhone...</td>\n",
       "    </tr>\n",
       "    <tr>\n",
       "      <th>99</th>\n",
       "      <td>5</td>\n",
       "      <td>Awesome</td>\n",
       "      <td>Can’t beat the software and hardware integrati...</td>\n",
       "    </tr>\n",
       "  </tbody>\n",
       "</table>\n",
       "<p>100 rows × 3 columns</p>\n",
       "</div>"
      ],
      "text/plain": [
       "   iPhone Rating iPhone Short Summary  \\\n",
       "0              5            Brilliant   \n",
       "1              5       Simply awesome   \n",
       "2              5  Best in the market!   \n",
       "3              5     Perfect product!   \n",
       "4              5            Fabulous!   \n",
       "..           ...                  ...   \n",
       "95             5            Just wow!   \n",
       "96             3    Terrific purchase   \n",
       "97             5              Awesome   \n",
       "98             5       Decent product   \n",
       "99             5              Awesome   \n",
       "\n",
       "                                   iPhone Full Review  \n",
       "0   The Best Phone for the Money  The iPhone 11 of...  \n",
       "1   Really satisfied with the Product I received.....  \n",
       "2   Great iPhone very snappy experience as apple k...  \n",
       "3   Amazing phone with great cameras and better ba...  \n",
       "4   This is my first iOS phone. I am very happy wi...  \n",
       "..                                                ...  \n",
       "95  The ultimate performance Camera is superb The ...  \n",
       "96  I use a Note10+ and have been using both iOS a...  \n",
       "97  The phone is completely good As far as camera ...  \n",
       "98  Everything u ll like it when u use this iPhone...  \n",
       "99  Can’t beat the software and hardware integrati...  \n",
       "\n",
       "[100 rows x 3 columns]"
      ]
     },
     "execution_count": 426,
     "metadata": {},
     "output_type": "execute_result"
    }
   ],
   "source": [
    "df = pd.DataFrame({})\n",
    "df['iPhone Rating']=phone_rating[:100]\n",
    "df['iPhone Short Summary']=phone_summary[:100]\n",
    "df['iPhone Full Review']=full_review[:100]\n",
    "df"
   ]
  },
  {
   "cell_type": "markdown",
   "metadata": {},
   "source": [
    "Question8:"
   ]
  },
  {
   "cell_type": "code",
   "execution_count": 170,
   "metadata": {},
   "outputs": [],
   "source": [
    "driver= webdriver.Chrome(\"chromedriver.exe\")\n",
    "\n",
    "url=\"https://www.flipkart.com/\"\n",
    "driver.get(url)"
   ]
  },
  {
   "cell_type": "code",
   "execution_count": 171,
   "metadata": {},
   "outputs": [],
   "source": [
    "search_bar= driver.find_element_by_name(\"q\")\n",
    "search_bar.send_keys(\"sneakers\")"
   ]
  },
  {
   "cell_type": "code",
   "execution_count": 172,
   "metadata": {},
   "outputs": [],
   "source": [
    "search_but= driver.find_element_by_xpath(\"//button[@class='L0Z3Pu']\")\n",
    "search_but.click()"
   ]
  },
  {
   "cell_type": "code",
   "execution_count": 175,
   "metadata": {},
   "outputs": [],
   "source": [
    "urls =[]\n",
    "for i in range(0,3):\n",
    "    for j in driver.find_elements_by_xpath(\"//nav[@class='yFHi8N']/a\"):\n",
    "        urls.append(j.get_attribute('href'))\n",
    "    driver.find_element_by_xpath(\"//a[@class='_1LKTO3']\").click()\n"
   ]
  },
  {
   "cell_type": "code",
   "execution_count": 176,
   "metadata": {},
   "outputs": [],
   "source": [
    "brand1 =[]\n",
    "details1 =[]\n",
    "price1 =[]\n",
    "discount1 =[]\n",
    "\n",
    "for i in range(0,3):\n",
    "    for j in driver.find_elements_by_xpath(\"//div[@class= '_2WkVRV']\"):\n",
    "        brand1.append(j.text)\n",
    "    for k in driver.find_elements_by_xpath(\"//a[@class='IRpwTa']\"):\n",
    "        details1.append(k.text)\n",
    "    for m in driver.find_elements_by_xpath(\"//div[@class='_30jeq3']\"):\n",
    "        price1.append(m.text)\n",
    "    for n in driver.find_elements_by_xpath(\"//div[@class='_3Ay6Sb']\"):\n",
    "        discount1.append(n.text)\n",
    "    driver.find_element_by_xpath(\"//a[@class='_1LKTO3']\").click()"
   ]
  },
  {
   "cell_type": "code",
   "execution_count": 177,
   "metadata": {},
   "outputs": [
    {
     "data": {
      "text/html": [
       "<div>\n",
       "<style scoped>\n",
       "    .dataframe tbody tr th:only-of-type {\n",
       "        vertical-align: middle;\n",
       "    }\n",
       "\n",
       "    .dataframe tbody tr th {\n",
       "        vertical-align: top;\n",
       "    }\n",
       "\n",
       "    .dataframe thead th {\n",
       "        text-align: right;\n",
       "    }\n",
       "</style>\n",
       "<table border=\"1\" class=\"dataframe\">\n",
       "  <thead>\n",
       "    <tr style=\"text-align: right;\">\n",
       "      <th></th>\n",
       "      <th>Brand</th>\n",
       "      <th>Product Details</th>\n",
       "      <th>Price</th>\n",
       "      <th>Discount %</th>\n",
       "    </tr>\n",
       "  </thead>\n",
       "  <tbody>\n",
       "    <tr>\n",
       "      <th>0</th>\n",
       "      <td>Zsyto</td>\n",
       "      <td>SM-675 Sneakers For Men</td>\n",
       "      <td>₹398</td>\n",
       "      <td>69% off</td>\n",
       "    </tr>\n",
       "    <tr>\n",
       "      <th>1</th>\n",
       "      <td>SPARX</td>\n",
       "      <td>Casual , Partywear Sneakers Shoes For Men's An...</td>\n",
       "      <td>₹692</td>\n",
       "      <td>23% off</td>\n",
       "    </tr>\n",
       "    <tr>\n",
       "      <th>2</th>\n",
       "      <td>D-SNEAKERZ</td>\n",
       "      <td>Smart Casuals Canvas Shoes Combo pack of 2 Sne...</td>\n",
       "      <td>₹384</td>\n",
       "      <td>61% off</td>\n",
       "    </tr>\n",
       "    <tr>\n",
       "      <th>3</th>\n",
       "      <td>VIPSJAZZY</td>\n",
       "      <td>shoe Sneakers For Men</td>\n",
       "      <td>₹429</td>\n",
       "      <td>57% off</td>\n",
       "    </tr>\n",
       "    <tr>\n",
       "      <th>4</th>\n",
       "      <td>Chevit</td>\n",
       "      <td>Synthetic Leather Casual Partywear Wedding Sne...</td>\n",
       "      <td>₹322</td>\n",
       "      <td>67% off</td>\n",
       "    </tr>\n",
       "    <tr>\n",
       "      <th>...</th>\n",
       "      <td>...</td>\n",
       "      <td>...</td>\n",
       "      <td>...</td>\n",
       "      <td>...</td>\n",
       "    </tr>\n",
       "    <tr>\n",
       "      <th>95</th>\n",
       "      <td>Echor</td>\n",
       "      <td>Unique &amp; Perfect Collection Combo Pack of 02 S...</td>\n",
       "      <td>₹429</td>\n",
       "      <td>57% off</td>\n",
       "    </tr>\n",
       "    <tr>\n",
       "      <th>96</th>\n",
       "      <td>Jokatoo</td>\n",
       "      <td>ABSOLUTEE SHOES ORANGE GYM SHOE FOR MEN Sneake...</td>\n",
       "      <td>₹445</td>\n",
       "      <td>69% off</td>\n",
       "    </tr>\n",
       "    <tr>\n",
       "      <th>97</th>\n",
       "      <td>Robbie jones</td>\n",
       "      <td>Lazy Knit Slip On IDP Sneakers For Men</td>\n",
       "      <td>₹399</td>\n",
       "      <td>60% off</td>\n",
       "    </tr>\n",
       "    <tr>\n",
       "      <th>98</th>\n",
       "      <td>D-SNEAKERZ</td>\n",
       "      <td>Sneakers For Men</td>\n",
       "      <td>₹346</td>\n",
       "      <td>65% off</td>\n",
       "    </tr>\n",
       "    <tr>\n",
       "      <th>99</th>\n",
       "      <td>Echor</td>\n",
       "      <td>Modern Trendy Shoes Combo pack of 4 Sneakers F...</td>\n",
       "      <td>₹399</td>\n",
       "      <td>60% off</td>\n",
       "    </tr>\n",
       "  </tbody>\n",
       "</table>\n",
       "<p>100 rows × 4 columns</p>\n",
       "</div>"
      ],
      "text/plain": [
       "           Brand                                    Product Details Price  \\\n",
       "0          Zsyto                            SM-675 Sneakers For Men  ₹398   \n",
       "1          SPARX  Casual , Partywear Sneakers Shoes For Men's An...  ₹692   \n",
       "2     D-SNEAKERZ  Smart Casuals Canvas Shoes Combo pack of 2 Sne...  ₹384   \n",
       "3      VIPSJAZZY                              shoe Sneakers For Men  ₹429   \n",
       "4         Chevit  Synthetic Leather Casual Partywear Wedding Sne...  ₹322   \n",
       "..           ...                                                ...   ...   \n",
       "95         Echor  Unique & Perfect Collection Combo Pack of 02 S...  ₹429   \n",
       "96       Jokatoo  ABSOLUTEE SHOES ORANGE GYM SHOE FOR MEN Sneake...  ₹445   \n",
       "97  Robbie jones             Lazy Knit Slip On IDP Sneakers For Men  ₹399   \n",
       "98    D-SNEAKERZ                                   Sneakers For Men  ₹346   \n",
       "99         Echor  Modern Trendy Shoes Combo pack of 4 Sneakers F...  ₹399   \n",
       "\n",
       "   Discount %  \n",
       "0     69% off  \n",
       "1     23% off  \n",
       "2     61% off  \n",
       "3     57% off  \n",
       "4     67% off  \n",
       "..        ...  \n",
       "95    57% off  \n",
       "96    69% off  \n",
       "97    60% off  \n",
       "98    65% off  \n",
       "99    60% off  \n",
       "\n",
       "[100 rows x 4 columns]"
      ]
     },
     "execution_count": 177,
     "metadata": {},
     "output_type": "execute_result"
    }
   ],
   "source": [
    "sneakers_data = pd.DataFrame({})\n",
    "sneakers_data['Brand']= brand1[:100]\n",
    "sneakers_data['Product Details'] = details1[:100]\n",
    "sneakers_data['Price']= price1[:100]\n",
    "sneakers_data['Discount %']= discount1[:100]\n",
    "\n",
    "sneakers_data"
   ]
  },
  {
   "cell_type": "markdown",
   "metadata": {},
   "source": [
    "Question9:"
   ]
  },
  {
   "cell_type": "code",
   "execution_count": 149,
   "metadata": {},
   "outputs": [],
   "source": [
    "driver=webdriver.Chrome(\"chromedriver.exe\")\n",
    "\n",
    "url = \"https://www.myntra.com/shoes\"\n",
    "driver.get(url)"
   ]
  },
  {
   "cell_type": "code",
   "execution_count": 150,
   "metadata": {},
   "outputs": [],
   "source": [
    "color_filter = driver.find_element_by_xpath('/html/body/div[2]/div/div[1]/main/div[3]/div[1]/section/div/div[6]/ul/li[1]/label/div')\n",
    "color_filter.click()"
   ]
  },
  {
   "cell_type": "code",
   "execution_count": 151,
   "metadata": {},
   "outputs": [],
   "source": [
    "price_filter = driver.find_element_by_xpath('/html/body/div[2]/div/div[1]/main/div[3]/div[1]/section/div/div[5]/ul/li[2]/label/div')\n",
    "price_filter.click()"
   ]
  },
  {
   "cell_type": "code",
   "execution_count": 152,
   "metadata": {},
   "outputs": [],
   "source": [
    "url = driver.find_elements_by_xpath('//li[@class=\"pagination-number\"]//a')"
   ]
  },
  {
   "cell_type": "code",
   "execution_count": 153,
   "metadata": {},
   "outputs": [],
   "source": [
    "shoe_urls=[]\n",
    "for i in url[:5]:\n",
    "    shoe_urls.append(i.get_attribute('href'))"
   ]
  },
  {
   "cell_type": "code",
   "execution_count": 154,
   "metadata": {},
   "outputs": [],
   "source": [
    "sbrand = []\n",
    "for i in shoe_urls:\n",
    "    driver.get(i)\n",
    "    try:\n",
    "        shoe_brand = driver.find_elements_by_xpath('//div[@class=\"product-productMetaInfo\"]//h3')\n",
    "        for j in shoe_brand:\n",
    "            sbrand.append(j.text)\n",
    "    except:\n",
    "        sbrand.append(\"---\")"
   ]
  },
  {
   "cell_type": "code",
   "execution_count": 155,
   "metadata": {},
   "outputs": [],
   "source": [
    "sdescriptn = []\n",
    "for i in shoe_urls:\n",
    "    driver.get(i)\n",
    "    try:\n",
    "        shoe_descriptn = driver.find_elements_by_xpath('//div[@class=\"product-productMetaInfo\"]//h4')\n",
    "        for j in shoe_descriptn:\n",
    "            sdescriptn.append(j.text)\n",
    "    except:\n",
    "        sdescriptn.append(\"---\")\n",
    "description=[]\n",
    "for i in range(0, len(sdescriptn), 2):\n",
    "    description.append(sdescriptn[i])"
   ]
  },
  {
   "cell_type": "code",
   "execution_count": 167,
   "metadata": {},
   "outputs": [],
   "source": [
    "sprice = []\n",
    "for i in shoe_urls[:10]:\n",
    "    driver.get(i)\n",
    "    try:\n",
    "        shoe_price = driver.find_elements_by_xpath('//span[@class=\"product-discountedPrice\"]')\n",
    "        for j in shoe_price:\n",
    "            sprice.append(j.text)\n",
    "    except:\n",
    "        sprice.append(\"---\")"
   ]
  },
  {
   "cell_type": "code",
   "execution_count": 168,
   "metadata": {},
   "outputs": [
    {
     "name": "stdout",
     "output_type": "stream",
     "text": [
      "Lengths of columns: 250 250 48\n"
     ]
    }
   ],
   "source": [
    "print(\"Lengths of columns:\", len(sbrand), len(description), len(sprice))"
   ]
  },
  {
   "cell_type": "code",
   "execution_count": 169,
   "metadata": {},
   "outputs": [
    {
     "data": {
      "text/html": [
       "<div>\n",
       "<style scoped>\n",
       "    .dataframe tbody tr th:only-of-type {\n",
       "        vertical-align: middle;\n",
       "    }\n",
       "\n",
       "    .dataframe tbody tr th {\n",
       "        vertical-align: top;\n",
       "    }\n",
       "\n",
       "    .dataframe thead th {\n",
       "        text-align: right;\n",
       "    }\n",
       "</style>\n",
       "<table border=\"1\" class=\"dataframe\">\n",
       "  <thead>\n",
       "    <tr style=\"text-align: right;\">\n",
       "      <th></th>\n",
       "      <th>Shoe Brand</th>\n",
       "      <th>Shoe Description</th>\n",
       "      <th>Shoe Price</th>\n",
       "    </tr>\n",
       "  </thead>\n",
       "  <tbody>\n",
       "    <tr>\n",
       "      <th>0</th>\n",
       "      <td>ALDO</td>\n",
       "      <td>Men Solid Leather Formal Monk Shoes</td>\n",
       "      <td>Rs. 10355</td>\n",
       "    </tr>\n",
       "    <tr>\n",
       "      <th>1</th>\n",
       "      <td>Saint G</td>\n",
       "      <td>Men Solid Leather Formal Derbys</td>\n",
       "      <td>Rs. 11199</td>\n",
       "    </tr>\n",
       "    <tr>\n",
       "      <th>2</th>\n",
       "      <td>ROSSO BRUNELLO</td>\n",
       "      <td>Men Sneakers</td>\n",
       "      <td>Rs. 7192</td>\n",
       "    </tr>\n",
       "    <tr>\n",
       "      <th>3</th>\n",
       "      <td>J.FONTINI</td>\n",
       "      <td>Women GlideRide Running Shoes</td>\n",
       "      <td>Rs. 6993</td>\n",
       "    </tr>\n",
       "    <tr>\n",
       "      <th>4</th>\n",
       "      <td>ASICS</td>\n",
       "      <td>Men Leather Flat Boots</td>\n",
       "      <td>Rs. 7006</td>\n",
       "    </tr>\n",
       "    <tr>\n",
       "      <th>5</th>\n",
       "      <td>Saint G</td>\n",
       "      <td>Women Leather Heeled Boots</td>\n",
       "      <td>Rs. 7039</td>\n",
       "    </tr>\n",
       "    <tr>\n",
       "      <th>6</th>\n",
       "      <td>Heel &amp; Buckle London</td>\n",
       "      <td>Women Peep Toe Heels</td>\n",
       "      <td>Rs. 7999</td>\n",
       "    </tr>\n",
       "    <tr>\n",
       "      <th>7</th>\n",
       "      <td>Heel &amp; Buckle London</td>\n",
       "      <td>Women Solid Leather Gladiators</td>\n",
       "      <td>Rs. 7773</td>\n",
       "    </tr>\n",
       "    <tr>\n",
       "      <th>8</th>\n",
       "      <td>KIPRUN By Decathlon</td>\n",
       "      <td>Women Running Shoes</td>\n",
       "      <td>Rs. 11242</td>\n",
       "    </tr>\n",
       "    <tr>\n",
       "      <th>9</th>\n",
       "      <td>Puma</td>\n",
       "      <td>Women Provoke XT FTR Shoes</td>\n",
       "      <td>Rs. 6993</td>\n",
       "    </tr>\n",
       "    <tr>\n",
       "      <th>10</th>\n",
       "      <td>Puma</td>\n",
       "      <td>Women Fuse Moto Training Shoes</td>\n",
       "      <td>Rs. 10493</td>\n",
       "    </tr>\n",
       "    <tr>\n",
       "      <th>11</th>\n",
       "      <td>Cole Haan</td>\n",
       "      <td>Men Wingtip Oxford Sneakers</td>\n",
       "      <td>Rs. 7192</td>\n",
       "    </tr>\n",
       "    <tr>\n",
       "      <th>12</th>\n",
       "      <td>Cole Haan</td>\n",
       "      <td>Men GENERATION ZEROGRAND STITCHLITE</td>\n",
       "      <td>Rs. 10345</td>\n",
       "    </tr>\n",
       "    <tr>\n",
       "      <th>13</th>\n",
       "      <td>Quechua By Decathlon</td>\n",
       "      <td>Men Trekking Shoes</td>\n",
       "      <td>Rs. 7343</td>\n",
       "    </tr>\n",
       "    <tr>\n",
       "      <th>14</th>\n",
       "      <td>Cole Haan</td>\n",
       "      <td>Leather Sneakers</td>\n",
       "      <td>Rs. 9513</td>\n",
       "    </tr>\n",
       "    <tr>\n",
       "      <th>15</th>\n",
       "      <td>VIONIC</td>\n",
       "      <td>Men Textured Sneakers</td>\n",
       "      <td>Rs. 9975</td>\n",
       "    </tr>\n",
       "    <tr>\n",
       "      <th>16</th>\n",
       "      <td>J.FONTINI</td>\n",
       "      <td>Men Solid Leather Loafers</td>\n",
       "      <td>Rs. 8499</td>\n",
       "    </tr>\n",
       "    <tr>\n",
       "      <th>17</th>\n",
       "      <td>J.FONTINI</td>\n",
       "      <td>Men Textured Leather Loafers</td>\n",
       "      <td>Rs. 10399</td>\n",
       "    </tr>\n",
       "    <tr>\n",
       "      <th>18</th>\n",
       "      <td>J.FONTINI</td>\n",
       "      <td>Men Textured Leather Loafers</td>\n",
       "      <td>Rs. 11305</td>\n",
       "    </tr>\n",
       "    <tr>\n",
       "      <th>19</th>\n",
       "      <td>Nike</td>\n",
       "      <td>Women Air Zoom Running Shoes</td>\n",
       "      <td>Rs. 9513</td>\n",
       "    </tr>\n",
       "    <tr>\n",
       "      <th>20</th>\n",
       "      <td>PUMA Motorsport</td>\n",
       "      <td>Men Leather Formal Slip-Ons</td>\n",
       "      <td>Rs. 8399</td>\n",
       "    </tr>\n",
       "    <tr>\n",
       "      <th>21</th>\n",
       "      <td>Geox</td>\n",
       "      <td>Unisex BMW MMS RS-FastSneakers</td>\n",
       "      <td>Rs. 7999</td>\n",
       "    </tr>\n",
       "    <tr>\n",
       "      <th>22</th>\n",
       "      <td>Kalenji By Decathlon</td>\n",
       "      <td>Men KD500 Running Shoe</td>\n",
       "      <td>Rs. 9975</td>\n",
       "    </tr>\n",
       "    <tr>\n",
       "      <th>23</th>\n",
       "      <td>Puma</td>\n",
       "      <td>Men Running Shoes</td>\n",
       "      <td>Rs. 9093</td>\n",
       "    </tr>\n",
       "    <tr>\n",
       "      <th>24</th>\n",
       "      <td>ASICS</td>\n",
       "      <td>Men Black Running Sports Shoes</td>\n",
       "      <td>Rs. 6999</td>\n",
       "    </tr>\n",
       "    <tr>\n",
       "      <th>25</th>\n",
       "      <td>Geox</td>\n",
       "      <td>Men Leather Formal Slip-Ons</td>\n",
       "      <td>Rs. 7400</td>\n",
       "    </tr>\n",
       "    <tr>\n",
       "      <th>26</th>\n",
       "      <td>Saint G</td>\n",
       "      <td>Women Leather Heeled Boots</td>\n",
       "      <td>Rs. 6993</td>\n",
       "    </tr>\n",
       "    <tr>\n",
       "      <th>27</th>\n",
       "      <td>Saint G</td>\n",
       "      <td>Women Leather Heeled Boots</td>\n",
       "      <td>Rs. 9799</td>\n",
       "    </tr>\n",
       "    <tr>\n",
       "      <th>28</th>\n",
       "      <td>Heel &amp; Buckle London</td>\n",
       "      <td>Women Solid Leather Heels</td>\n",
       "      <td>Rs. 6969</td>\n",
       "    </tr>\n",
       "    <tr>\n",
       "      <th>29</th>\n",
       "      <td>Saint G</td>\n",
       "      <td>Women Heeled Boots</td>\n",
       "      <td>Rs. 7499</td>\n",
       "    </tr>\n",
       "    <tr>\n",
       "      <th>30</th>\n",
       "      <td>Bugatti</td>\n",
       "      <td>Men Black Walking Shoes</td>\n",
       "      <td>Rs. 6993</td>\n",
       "    </tr>\n",
       "    <tr>\n",
       "      <th>31</th>\n",
       "      <td>Bugatti</td>\n",
       "      <td>Men Walking Shoes</td>\n",
       "      <td>Rs. 8253</td>\n",
       "    </tr>\n",
       "    <tr>\n",
       "      <th>32</th>\n",
       "      <td>Bugatti</td>\n",
       "      <td>Men Running Shoes</td>\n",
       "      <td>Rs. 8792</td>\n",
       "    </tr>\n",
       "    <tr>\n",
       "      <th>33</th>\n",
       "      <td>Kenneth Cole</td>\n",
       "      <td>Women Leather Pumps</td>\n",
       "      <td>Rs. 9599</td>\n",
       "    </tr>\n",
       "    <tr>\n",
       "      <th>34</th>\n",
       "      <td>J.FONTINI</td>\n",
       "      <td>Men Textured Leather Loafers</td>\n",
       "      <td>Rs. 7799</td>\n",
       "    </tr>\n",
       "    <tr>\n",
       "      <th>35</th>\n",
       "      <td>Geox</td>\n",
       "      <td>Men Solid Sneakers</td>\n",
       "      <td>Rs. 7799</td>\n",
       "    </tr>\n",
       "    <tr>\n",
       "      <th>36</th>\n",
       "      <td>Geox</td>\n",
       "      <td>Men Leather Driving Shoes</td>\n",
       "      <td>Rs. 7199</td>\n",
       "    </tr>\n",
       "    <tr>\n",
       "      <th>37</th>\n",
       "      <td>ALDO</td>\n",
       "      <td>Women Solid Sneakers</td>\n",
       "      <td>Rs. 7149</td>\n",
       "    </tr>\n",
       "    <tr>\n",
       "      <th>38</th>\n",
       "      <td>Cole Haan</td>\n",
       "      <td>Men Solid Leather Formal Derbys</td>\n",
       "      <td>Rs. 7799</td>\n",
       "    </tr>\n",
       "    <tr>\n",
       "      <th>39</th>\n",
       "      <td>Florsheim</td>\n",
       "      <td>Women Open Toe Flats</td>\n",
       "      <td>Rs. 11999</td>\n",
       "    </tr>\n",
       "    <tr>\n",
       "      <th>40</th>\n",
       "      <td>Ruosh</td>\n",
       "      <td>Men Solid Leather Formal Monks</td>\n",
       "      <td>Rs. 8953</td>\n",
       "    </tr>\n",
       "    <tr>\n",
       "      <th>41</th>\n",
       "      <td>Heel &amp; Buckle London</td>\n",
       "      <td>Women Leather Pumps</td>\n",
       "      <td>Rs. 9599</td>\n",
       "    </tr>\n",
       "    <tr>\n",
       "      <th>42</th>\n",
       "      <td>Puma</td>\n",
       "      <td>Unisex Mirage Sport Trainers</td>\n",
       "      <td>Rs. 7192</td>\n",
       "    </tr>\n",
       "    <tr>\n",
       "      <th>43</th>\n",
       "      <td>Puma</td>\n",
       "      <td>Unisex Pacer Future Sneakers</td>\n",
       "      <td>Rs. 8249</td>\n",
       "    </tr>\n",
       "    <tr>\n",
       "      <th>44</th>\n",
       "      <td>Nike</td>\n",
       "      <td>Men REACT MILER 2 Running</td>\n",
       "      <td>Rs. 7693</td>\n",
       "    </tr>\n",
       "    <tr>\n",
       "      <th>45</th>\n",
       "      <td>J.FONTINI</td>\n",
       "      <td>Men Solid Leather Formal Slip-Ons</td>\n",
       "      <td>Rs. 7499</td>\n",
       "    </tr>\n",
       "    <tr>\n",
       "      <th>46</th>\n",
       "      <td>ALDO</td>\n",
       "      <td>Men Solid Leather Formal Slip-Ons</td>\n",
       "      <td>Rs. 8094</td>\n",
       "    </tr>\n",
       "    <tr>\n",
       "      <th>47</th>\n",
       "      <td>J.FONTINI</td>\n",
       "      <td>Women Woven Design Sneakers</td>\n",
       "      <td>Rs. 9513</td>\n",
       "    </tr>\n",
       "  </tbody>\n",
       "</table>\n",
       "</div>"
      ],
      "text/plain": [
       "              Shoe Brand                     Shoe Description Shoe Price\n",
       "0                   ALDO  Men Solid Leather Formal Monk Shoes  Rs. 10355\n",
       "1                Saint G      Men Solid Leather Formal Derbys  Rs. 11199\n",
       "2         ROSSO BRUNELLO                         Men Sneakers   Rs. 7192\n",
       "3              J.FONTINI        Women GlideRide Running Shoes   Rs. 6993\n",
       "4                  ASICS               Men Leather Flat Boots   Rs. 7006\n",
       "5                Saint G           Women Leather Heeled Boots   Rs. 7039\n",
       "6   Heel & Buckle London                 Women Peep Toe Heels   Rs. 7999\n",
       "7   Heel & Buckle London       Women Solid Leather Gladiators   Rs. 7773\n",
       "8    KIPRUN By Decathlon                  Women Running Shoes  Rs. 11242\n",
       "9                   Puma           Women Provoke XT FTR Shoes   Rs. 6993\n",
       "10                  Puma       Women Fuse Moto Training Shoes  Rs. 10493\n",
       "11             Cole Haan          Men Wingtip Oxford Sneakers   Rs. 7192\n",
       "12             Cole Haan  Men GENERATION ZEROGRAND STITCHLITE  Rs. 10345\n",
       "13  Quechua By Decathlon                   Men Trekking Shoes   Rs. 7343\n",
       "14             Cole Haan                     Leather Sneakers   Rs. 9513\n",
       "15                VIONIC                Men Textured Sneakers   Rs. 9975\n",
       "16             J.FONTINI            Men Solid Leather Loafers   Rs. 8499\n",
       "17             J.FONTINI         Men Textured Leather Loafers  Rs. 10399\n",
       "18             J.FONTINI         Men Textured Leather Loafers  Rs. 11305\n",
       "19                  Nike         Women Air Zoom Running Shoes   Rs. 9513\n",
       "20       PUMA Motorsport          Men Leather Formal Slip-Ons   Rs. 8399\n",
       "21                  Geox       Unisex BMW MMS RS-FastSneakers   Rs. 7999\n",
       "22  Kalenji By Decathlon               Men KD500 Running Shoe   Rs. 9975\n",
       "23                  Puma                    Men Running Shoes   Rs. 9093\n",
       "24                 ASICS       Men Black Running Sports Shoes   Rs. 6999\n",
       "25                  Geox          Men Leather Formal Slip-Ons   Rs. 7400\n",
       "26               Saint G           Women Leather Heeled Boots   Rs. 6993\n",
       "27               Saint G           Women Leather Heeled Boots   Rs. 9799\n",
       "28  Heel & Buckle London            Women Solid Leather Heels   Rs. 6969\n",
       "29               Saint G                   Women Heeled Boots   Rs. 7499\n",
       "30               Bugatti              Men Black Walking Shoes   Rs. 6993\n",
       "31               Bugatti                    Men Walking Shoes   Rs. 8253\n",
       "32               Bugatti                    Men Running Shoes   Rs. 8792\n",
       "33          Kenneth Cole                  Women Leather Pumps   Rs. 9599\n",
       "34             J.FONTINI         Men Textured Leather Loafers   Rs. 7799\n",
       "35                  Geox                   Men Solid Sneakers   Rs. 7799\n",
       "36                  Geox            Men Leather Driving Shoes   Rs. 7199\n",
       "37                  ALDO                 Women Solid Sneakers   Rs. 7149\n",
       "38             Cole Haan      Men Solid Leather Formal Derbys   Rs. 7799\n",
       "39             Florsheim                 Women Open Toe Flats  Rs. 11999\n",
       "40                 Ruosh       Men Solid Leather Formal Monks   Rs. 8953\n",
       "41  Heel & Buckle London                  Women Leather Pumps   Rs. 9599\n",
       "42                  Puma         Unisex Mirage Sport Trainers   Rs. 7192\n",
       "43                  Puma         Unisex Pacer Future Sneakers   Rs. 8249\n",
       "44                  Nike            Men REACT MILER 2 Running   Rs. 7693\n",
       "45             J.FONTINI    Men Solid Leather Formal Slip-Ons   Rs. 7499\n",
       "46                  ALDO    Men Solid Leather Formal Slip-Ons   Rs. 8094\n",
       "47             J.FONTINI          Women Woven Design Sneakers   Rs. 9513"
      ]
     },
     "execution_count": 169,
     "metadata": {},
     "output_type": "execute_result"
    }
   ],
   "source": [
    "df = pd.DataFrame({})\n",
    "df['Shoe Brand']=sbrand[:48]\n",
    "df['Shoe Description']=description[:48]\n",
    "df['Shoe Price']=sprice[:48]\n",
    "df"
   ]
  },
  {
   "cell_type": "markdown",
   "metadata": {},
   "source": [
    "Question10:"
   ]
  },
  {
   "cell_type": "code",
   "execution_count": 21,
   "metadata": {},
   "outputs": [],
   "source": [
    "url=\"https://www.amazon.in/\"\n",
    "driver.get(url)"
   ]
  },
  {
   "cell_type": "code",
   "execution_count": 22,
   "metadata": {},
   "outputs": [],
   "source": [
    "search_keyword=driver.find_element_by_xpath(\"//input[@id='twotabsearchtextbox']\")\n",
    "search_keyword.send_keys(\"Laptop\")"
   ]
  },
  {
   "cell_type": "code",
   "execution_count": 23,
   "metadata": {},
   "outputs": [],
   "source": [
    "click_search=driver.find_element_by_xpath(\"//input[@id='nav-search-submit-button']\")\n",
    "click_search.click()"
   ]
  },
  {
   "cell_type": "code",
   "execution_count": 41,
   "metadata": {},
   "outputs": [],
   "source": [
    "i7=driver.find_elements_by_xpath(\"//a[@class='a-link-normal s-navigation-item']//span\")\n",
    "for i in i7:\n",
    "    if i.text=='Intel Core i7':\n",
    "        i.click()\n",
    "        break\n"
   ]
  },
  {
   "cell_type": "code",
   "execution_count": 46,
   "metadata": {},
   "outputs": [],
   "source": [
    "i9=driver.find_elements_by_xpath(\"//a[@class='a-link-normal s-navigation-item']//span\")\n",
    "for i in i9:\n",
    "    if i.text=='Intel Core i9':\n",
    "        i.click()\n",
    "        break\n",
    "        "
   ]
  },
  {
   "cell_type": "code",
   "execution_count": 48,
   "metadata": {},
   "outputs": [
    {
     "data": {
      "text/plain": [
       "[<selenium.webdriver.remote.webelement.WebElement (session=\"cdd80c2f0741e87edcf97344d1efd4da\", element=\"40644add-6f00-4a59-bf64-a14d5b8ed350\")>,\n",
       " <selenium.webdriver.remote.webelement.WebElement (session=\"cdd80c2f0741e87edcf97344d1efd4da\", element=\"cf05c9e3-2c88-4661-b714-532dede35c74\")>,\n",
       " <selenium.webdriver.remote.webelement.WebElement (session=\"cdd80c2f0741e87edcf97344d1efd4da\", element=\"396c2d5e-19e7-47c2-b675-d0c383780ac9\")>,\n",
       " <selenium.webdriver.remote.webelement.WebElement (session=\"cdd80c2f0741e87edcf97344d1efd4da\", element=\"75fa2fdc-e03f-476e-9f5a-4680a24e3e2f\")>,\n",
       " <selenium.webdriver.remote.webelement.WebElement (session=\"cdd80c2f0741e87edcf97344d1efd4da\", element=\"e0d925d5-4847-4396-8815-b8a3acffdd2c\")>,\n",
       " <selenium.webdriver.remote.webelement.WebElement (session=\"cdd80c2f0741e87edcf97344d1efd4da\", element=\"a5354e6e-060f-4457-b9b1-3f9acf666884\")>,\n",
       " <selenium.webdriver.remote.webelement.WebElement (session=\"cdd80c2f0741e87edcf97344d1efd4da\", element=\"03064434-16b9-4618-8fd0-dbc5f3127c57\")>,\n",
       " <selenium.webdriver.remote.webelement.WebElement (session=\"cdd80c2f0741e87edcf97344d1efd4da\", element=\"23951f9f-db12-4dfb-8a8a-ebe2a52522c4\")>,\n",
       " <selenium.webdriver.remote.webelement.WebElement (session=\"cdd80c2f0741e87edcf97344d1efd4da\", element=\"e401d72c-64fb-423b-ba48-57ffb13f09ee\")>,\n",
       " <selenium.webdriver.remote.webelement.WebElement (session=\"cdd80c2f0741e87edcf97344d1efd4da\", element=\"99cd1a50-f2c1-48ac-853f-604b5f6579d0\")>,\n",
       " <selenium.webdriver.remote.webelement.WebElement (session=\"cdd80c2f0741e87edcf97344d1efd4da\", element=\"9700da7b-59e8-46b0-80f2-aa3d414ac0f9\")>,\n",
       " <selenium.webdriver.remote.webelement.WebElement (session=\"cdd80c2f0741e87edcf97344d1efd4da\", element=\"f72f41b0-680e-4757-81b4-51eaebd5222e\")>,\n",
       " <selenium.webdriver.remote.webelement.WebElement (session=\"cdd80c2f0741e87edcf97344d1efd4da\", element=\"43b344d1-7cb9-405d-80f1-4b7d97d0768f\")>,\n",
       " <selenium.webdriver.remote.webelement.WebElement (session=\"cdd80c2f0741e87edcf97344d1efd4da\", element=\"53094b35-19d3-4789-8604-bc0c3e7dbbe8\")>,\n",
       " <selenium.webdriver.remote.webelement.WebElement (session=\"cdd80c2f0741e87edcf97344d1efd4da\", element=\"3f209267-0802-43a7-8655-4deecda85dfd\")>,\n",
       " <selenium.webdriver.remote.webelement.WebElement (session=\"cdd80c2f0741e87edcf97344d1efd4da\", element=\"ace1c564-4295-4249-97c0-37f46d9dfe49\")>,\n",
       " <selenium.webdriver.remote.webelement.WebElement (session=\"cdd80c2f0741e87edcf97344d1efd4da\", element=\"3f252a14-b56c-44a2-97f0-27ee7ce997fb\")>,\n",
       " <selenium.webdriver.remote.webelement.WebElement (session=\"cdd80c2f0741e87edcf97344d1efd4da\", element=\"0e1e7687-b522-4133-92e6-9525a8a70ca2\")>,\n",
       " <selenium.webdriver.remote.webelement.WebElement (session=\"cdd80c2f0741e87edcf97344d1efd4da\", element=\"7c34847c-ae00-4b40-8812-0370b20e3626\")>,\n",
       " <selenium.webdriver.remote.webelement.WebElement (session=\"cdd80c2f0741e87edcf97344d1efd4da\", element=\"447ab27e-f76a-401c-b3c4-75f3707ea94d\")>,\n",
       " <selenium.webdriver.remote.webelement.WebElement (session=\"cdd80c2f0741e87edcf97344d1efd4da\", element=\"c97bb7a7-813b-43bf-a1e0-e5b881de889e\")>,\n",
       " <selenium.webdriver.remote.webelement.WebElement (session=\"cdd80c2f0741e87edcf97344d1efd4da\", element=\"cfe7364f-57a3-4824-8584-c284cf7a9ca1\")>,\n",
       " <selenium.webdriver.remote.webelement.WebElement (session=\"cdd80c2f0741e87edcf97344d1efd4da\", element=\"94d9fc2c-54f8-410d-86dc-0bf548249239\")>,\n",
       " <selenium.webdriver.remote.webelement.WebElement (session=\"cdd80c2f0741e87edcf97344d1efd4da\", element=\"dc421c34-36d8-4642-ae87-64c59806fd83\")>,\n",
       " <selenium.webdriver.remote.webelement.WebElement (session=\"cdd80c2f0741e87edcf97344d1efd4da\", element=\"7acf0da5-e51e-4dba-bc85-6f22df277e1f\")>,\n",
       " <selenium.webdriver.remote.webelement.WebElement (session=\"cdd80c2f0741e87edcf97344d1efd4da\", element=\"2acb4f1b-0b56-4e8e-865b-cab1bdc70853\")>,\n",
       " <selenium.webdriver.remote.webelement.WebElement (session=\"cdd80c2f0741e87edcf97344d1efd4da\", element=\"2f1cebfa-5821-4825-9928-c00b74e881dd\")>,\n",
       " <selenium.webdriver.remote.webelement.WebElement (session=\"cdd80c2f0741e87edcf97344d1efd4da\", element=\"72f7c2e0-dc66-4951-b174-4526affc5e05\")>]"
      ]
     },
     "execution_count": 48,
     "metadata": {},
     "output_type": "execute_result"
    }
   ],
   "source": [
    "lap_title=driver.find_elements_by_xpath(\"//span[@class='a-size-medium a-color-base a-text-normal']\")\n",
    "lap_title"
   ]
  },
  {
   "cell_type": "code",
   "execution_count": 51,
   "metadata": {},
   "outputs": [
    {
     "data": {
      "text/plain": [
       "['Dell XPS 9370 13.3-inch FHD Display Thin & Light Laptop (8th Gen i7-8550U/16GB/512GB SSD/Win 10 + MS Office/Integrated Graphics), Gold',\n",
       " 'Acer Nitro 5 Intel Core i7 10750H 15.6\" FHD IPS 144Hz Display Thin and Light Gaming Laptop (8GB Ram/1TB HDD + 256 GB SSD/Windows 10 Home /GTX 1650Ti Graphics/Obisidian Black/2.3 kgs),AN515-55',\n",
       " 'Lenovo IdeaPad S540 11th Gen Intel Core i7 13.3\" QHD IPS Thin & Light Laptop (16GB/512GB SSD/Windows 10/MS Office 2019/Intel Iris Xe Graphics/Iron Grey/1.28Kg), 82H1002CIN',\n",
       " 'Mi Notebook Horizon Edition 14 Intel Core i7-10510U 10th Gen Thin and Light Laptop(8GB/512GB SSD/Windows 10/Nvidia MX350 2GB Graphics/Grey/1.35Kg)(Without Webcam) XMA1904-AF',\n",
       " 'MSI GF65 Thin, Intel i7-10750H, 15.6\" FHD (39.6 cm) IPS-Level 144Hz Panel Laptop (16GB/512GB NVMe SSD/Windows 10 Home/Nvidia GTX1660 Ti 6GB GDDR6/Black/1.86Kg), 10SDR-1280IN',\n",
       " 'Lenovo Yoga 7 11th Gen Intel Core i7 14\" Full HD IPS 2-in-1 Touchscreen Laptop (16GB/512GB SSD/Windows 10/MS Office 2019/Lenovo Digital Pen/Slate Grey/Aluminium Surface/1.43Kg), 82BH00E0IN',\n",
       " 'HP Pavilion 13(2021) 11th Gen Intel Core i7 Laptop, 16GB RAM, 1TB SSD, 13.3-inch(33.8 cm) FHD Screen, Win 10, MS Office, Ceramic White, 1.24 Kg (13-bb0078TU)',\n",
       " 'Lenovo IdeaPad Gaming 3 Intel Core i7 10th Gen 15.6\" FHD IPS 250Nits Gaming Laptop (8GB/512GB SSD/Win10/NVIDIA GTX 1650 4GB GDDR6 Graphics/120Hz/Onyx Black/2.2Kg), 81Y4019EIN',\n",
       " 'HP Pavilion Gaming 11th Gen Intel Core i7 15.6-inch(39.6 cm) FHD Gaming Laptop (16GB RAM/512GB SSD/144Hz/GTX 1650 4GB Graphics/Win 10/MS Office/Shadow Black/2.28 Kg), 15-dk2075tx',\n",
       " 'ASUS TUF Dash F15 (2021), 15.6-inch (39.62 cms) FHD 144Hz, Intel Core i7-11370H 11th Gen, RTX 3050 4GB Graphics Gaming Laptop (16GB RAM/512GB SSD/Windows 10/Gray/2 kg), FX516PC-HN063T']"
      ]
     },
     "execution_count": 51,
     "metadata": {},
     "output_type": "execute_result"
    }
   ],
   "source": [
    "Lap_titles=[]\n",
    "for i in lap_title[:10]:\n",
    "    Lap_titles.append(i.text)\n",
    "Lap_titles"
   ]
  },
  {
   "cell_type": "code",
   "execution_count": 58,
   "metadata": {},
   "outputs": [
    {
     "data": {
      "text/plain": [
       "[<selenium.webdriver.remote.webelement.WebElement (session=\"cdd80c2f0741e87edcf97344d1efd4da\", element=\"2082c812-d8e1-477c-9ad3-ddc590ceb7b5\")>,\n",
       " <selenium.webdriver.remote.webelement.WebElement (session=\"cdd80c2f0741e87edcf97344d1efd4da\", element=\"1f0912e6-b79a-47f2-9dc1-b485097fab45\")>,\n",
       " <selenium.webdriver.remote.webelement.WebElement (session=\"cdd80c2f0741e87edcf97344d1efd4da\", element=\"413714c1-2c88-447e-8f30-cc5faed770ac\")>,\n",
       " <selenium.webdriver.remote.webelement.WebElement (session=\"cdd80c2f0741e87edcf97344d1efd4da\", element=\"94ba7040-bc00-432d-8934-ae3282b77183\")>,\n",
       " <selenium.webdriver.remote.webelement.WebElement (session=\"cdd80c2f0741e87edcf97344d1efd4da\", element=\"8365fdaa-46b3-47e5-adad-50f75ef37f5f\")>,\n",
       " <selenium.webdriver.remote.webelement.WebElement (session=\"cdd80c2f0741e87edcf97344d1efd4da\", element=\"054eed03-7fa2-4bb7-a632-33c40e1dbabe\")>,\n",
       " <selenium.webdriver.remote.webelement.WebElement (session=\"cdd80c2f0741e87edcf97344d1efd4da\", element=\"80db1170-a142-4185-883d-e439eb40f13c\")>,\n",
       " <selenium.webdriver.remote.webelement.WebElement (session=\"cdd80c2f0741e87edcf97344d1efd4da\", element=\"3c303688-d425-486f-8c86-90b39dec722e\")>,\n",
       " <selenium.webdriver.remote.webelement.WebElement (session=\"cdd80c2f0741e87edcf97344d1efd4da\", element=\"22a0d4e2-1129-4f25-84fd-b8d70b001569\")>,\n",
       " <selenium.webdriver.remote.webelement.WebElement (session=\"cdd80c2f0741e87edcf97344d1efd4da\", element=\"a9844367-31fa-427b-a986-dc88d8b543cb\")>,\n",
       " <selenium.webdriver.remote.webelement.WebElement (session=\"cdd80c2f0741e87edcf97344d1efd4da\", element=\"d418b12e-10b1-45ac-81d5-759e4a020890\")>,\n",
       " <selenium.webdriver.remote.webelement.WebElement (session=\"cdd80c2f0741e87edcf97344d1efd4da\", element=\"6c634893-3eb1-410a-86ab-f66d4ff3962d\")>,\n",
       " <selenium.webdriver.remote.webelement.WebElement (session=\"cdd80c2f0741e87edcf97344d1efd4da\", element=\"05856fb9-5a39-423c-ac1b-3b76284eb32c\")>,\n",
       " <selenium.webdriver.remote.webelement.WebElement (session=\"cdd80c2f0741e87edcf97344d1efd4da\", element=\"9e9b3f58-cf5a-4e72-8274-2c0ac4e9d680\")>,\n",
       " <selenium.webdriver.remote.webelement.WebElement (session=\"cdd80c2f0741e87edcf97344d1efd4da\", element=\"ae0bcdb2-98f2-4054-a677-b6c5172b76e7\")>,\n",
       " <selenium.webdriver.remote.webelement.WebElement (session=\"cdd80c2f0741e87edcf97344d1efd4da\", element=\"7fffae02-c287-4dc5-b2aa-6c887d2363e7\")>,\n",
       " <selenium.webdriver.remote.webelement.WebElement (session=\"cdd80c2f0741e87edcf97344d1efd4da\", element=\"009b4168-1870-4fc6-96b4-1fccce4549c9\")>,\n",
       " <selenium.webdriver.remote.webelement.WebElement (session=\"cdd80c2f0741e87edcf97344d1efd4da\", element=\"8bff4bfe-f927-4d99-a5b2-48d20355a309\")>,\n",
       " <selenium.webdriver.remote.webelement.WebElement (session=\"cdd80c2f0741e87edcf97344d1efd4da\", element=\"200aa636-7231-4180-ba7b-2bf66de643d6\")>,\n",
       " <selenium.webdriver.remote.webelement.WebElement (session=\"cdd80c2f0741e87edcf97344d1efd4da\", element=\"73b705f4-5b32-4171-b5a8-6da421217638\")>,\n",
       " <selenium.webdriver.remote.webelement.WebElement (session=\"cdd80c2f0741e87edcf97344d1efd4da\", element=\"63184686-68bf-4d01-adc3-a398a5edaccb\")>,\n",
       " <selenium.webdriver.remote.webelement.WebElement (session=\"cdd80c2f0741e87edcf97344d1efd4da\", element=\"45e8e15f-9993-4eb0-a08f-20d9fe96242e\")>,\n",
       " <selenium.webdriver.remote.webelement.WebElement (session=\"cdd80c2f0741e87edcf97344d1efd4da\", element=\"1d1a151e-cea6-444b-bb95-ec194abd8d76\")>,\n",
       " <selenium.webdriver.remote.webelement.WebElement (session=\"cdd80c2f0741e87edcf97344d1efd4da\", element=\"64c43917-7986-4c1f-8645-8df0b561b667\")>,\n",
       " <selenium.webdriver.remote.webelement.WebElement (session=\"cdd80c2f0741e87edcf97344d1efd4da\", element=\"eb3beb03-f12e-49b3-aad1-216937d77b70\")>,\n",
       " <selenium.webdriver.remote.webelement.WebElement (session=\"cdd80c2f0741e87edcf97344d1efd4da\", element=\"75b4df4d-40bb-478e-b4c5-c6e8f841a116\")>,\n",
       " <selenium.webdriver.remote.webelement.WebElement (session=\"cdd80c2f0741e87edcf97344d1efd4da\", element=\"96017312-4e57-45ab-a785-ff597dc25bc4\")>,\n",
       " <selenium.webdriver.remote.webelement.WebElement (session=\"cdd80c2f0741e87edcf97344d1efd4da\", element=\"696ffe7a-2d90-443c-a5af-db5898451016\")>]"
      ]
     },
     "execution_count": 58,
     "metadata": {},
     "output_type": "execute_result"
    }
   ],
   "source": [
    "lap_price=driver.find_elements_by_xpath(\"//span[@class='a-price-whole']\")\n",
    "lap_price"
   ]
  },
  {
   "cell_type": "code",
   "execution_count": 61,
   "metadata": {},
   "outputs": [
    {
     "data": {
      "text/plain": [
       "['1,14,990',\n",
       " '82,990',\n",
       " '77,990',\n",
       " '57,990',\n",
       " '81,990',\n",
       " '97,989',\n",
       " '92,990',\n",
       " '73,990',\n",
       " '89,990',\n",
       " '84,990']"
      ]
     },
     "execution_count": 61,
     "metadata": {},
     "output_type": "execute_result"
    }
   ],
   "source": [
    "Lap_prices=[]\n",
    "for i in lap_price[:10]:\n",
    "    Lap_prices.append(i.text)\n",
    "Lap_prices"
   ]
  },
  {
   "cell_type": "code",
   "execution_count": 81,
   "metadata": {},
   "outputs": [],
   "source": [
    "lap_ratings=[]\n",
    "lap_rating = driver.find_elements_by_class_name(\"a-icon-alt\")\n",
    "for i in lap_rating[:10]:\n",
    "    lap_ratings.append(i.get_attribute('textContent'))"
   ]
  },
  {
   "cell_type": "code",
   "execution_count": 82,
   "metadata": {},
   "outputs": [
    {
     "data": {
      "text/html": [
       "<div>\n",
       "<style scoped>\n",
       "    .dataframe tbody tr th:only-of-type {\n",
       "        vertical-align: middle;\n",
       "    }\n",
       "\n",
       "    .dataframe tbody tr th {\n",
       "        vertical-align: top;\n",
       "    }\n",
       "\n",
       "    .dataframe thead th {\n",
       "        text-align: right;\n",
       "    }\n",
       "</style>\n",
       "<table border=\"1\" class=\"dataframe\">\n",
       "  <thead>\n",
       "    <tr style=\"text-align: right;\">\n",
       "      <th></th>\n",
       "      <th>Laptop_Title</th>\n",
       "      <th>Price</th>\n",
       "      <th>Rating</th>\n",
       "    </tr>\n",
       "  </thead>\n",
       "  <tbody>\n",
       "    <tr>\n",
       "      <th>0</th>\n",
       "      <td>Dell XPS 9370 13.3-inch FHD Display Thin &amp; Lig...</td>\n",
       "      <td>1,14,990</td>\n",
       "      <td>2.8 out of 5 stars</td>\n",
       "    </tr>\n",
       "    <tr>\n",
       "      <th>1</th>\n",
       "      <td>Acer Nitro 5 Intel Core i7 10750H 15.6\" FHD IP...</td>\n",
       "      <td>82,990</td>\n",
       "      <td>4.3 out of 5 stars</td>\n",
       "    </tr>\n",
       "    <tr>\n",
       "      <th>2</th>\n",
       "      <td>Lenovo IdeaPad S540 11th Gen Intel Core i7 13....</td>\n",
       "      <td>77,990</td>\n",
       "      <td>4.3 out of 5 stars</td>\n",
       "    </tr>\n",
       "    <tr>\n",
       "      <th>3</th>\n",
       "      <td>Mi Notebook Horizon Edition 14 Intel Core i7-1...</td>\n",
       "      <td>57,990</td>\n",
       "      <td>4.2 out of 5 stars</td>\n",
       "    </tr>\n",
       "    <tr>\n",
       "      <th>4</th>\n",
       "      <td>MSI GF65 Thin, Intel i7-10750H, 15.6\" FHD (39....</td>\n",
       "      <td>81,990</td>\n",
       "      <td>4.2 out of 5 stars</td>\n",
       "    </tr>\n",
       "    <tr>\n",
       "      <th>5</th>\n",
       "      <td>Lenovo Yoga 7 11th Gen Intel Core i7 14\" Full ...</td>\n",
       "      <td>97,989</td>\n",
       "      <td>2.4 out of 5 stars</td>\n",
       "    </tr>\n",
       "    <tr>\n",
       "      <th>6</th>\n",
       "      <td>HP Pavilion 13(2021) 11th Gen Intel Core i7 La...</td>\n",
       "      <td>92,990</td>\n",
       "      <td>5.0 out of 5 stars</td>\n",
       "    </tr>\n",
       "    <tr>\n",
       "      <th>7</th>\n",
       "      <td>Lenovo IdeaPad Gaming 3 Intel Core i7 10th Gen...</td>\n",
       "      <td>73,990</td>\n",
       "      <td>4.4 out of 5 stars</td>\n",
       "    </tr>\n",
       "    <tr>\n",
       "      <th>8</th>\n",
       "      <td>HP Pavilion Gaming 11th Gen Intel Core i7 15.6...</td>\n",
       "      <td>89,990</td>\n",
       "      <td>3.7 out of 5 stars</td>\n",
       "    </tr>\n",
       "    <tr>\n",
       "      <th>9</th>\n",
       "      <td>ASUS TUF Dash F15 (2021), 15.6-inch (39.62 cms...</td>\n",
       "      <td>84,990</td>\n",
       "      <td>3.8 out of 5 stars</td>\n",
       "    </tr>\n",
       "  </tbody>\n",
       "</table>\n",
       "</div>"
      ],
      "text/plain": [
       "                                        Laptop_Title     Price  \\\n",
       "0  Dell XPS 9370 13.3-inch FHD Display Thin & Lig...  1,14,990   \n",
       "1  Acer Nitro 5 Intel Core i7 10750H 15.6\" FHD IP...    82,990   \n",
       "2  Lenovo IdeaPad S540 11th Gen Intel Core i7 13....    77,990   \n",
       "3  Mi Notebook Horizon Edition 14 Intel Core i7-1...    57,990   \n",
       "4  MSI GF65 Thin, Intel i7-10750H, 15.6\" FHD (39....    81,990   \n",
       "5  Lenovo Yoga 7 11th Gen Intel Core i7 14\" Full ...    97,989   \n",
       "6  HP Pavilion 13(2021) 11th Gen Intel Core i7 La...    92,990   \n",
       "7  Lenovo IdeaPad Gaming 3 Intel Core i7 10th Gen...    73,990   \n",
       "8  HP Pavilion Gaming 11th Gen Intel Core i7 15.6...    89,990   \n",
       "9  ASUS TUF Dash F15 (2021), 15.6-inch (39.62 cms...    84,990   \n",
       "\n",
       "               Rating  \n",
       "0  2.8 out of 5 stars  \n",
       "1  4.3 out of 5 stars  \n",
       "2  4.3 out of 5 stars  \n",
       "3  4.2 out of 5 stars  \n",
       "4  4.2 out of 5 stars  \n",
       "5  2.4 out of 5 stars  \n",
       "6  5.0 out of 5 stars  \n",
       "7  4.4 out of 5 stars  \n",
       "8  3.7 out of 5 stars  \n",
       "9  3.8 out of 5 stars  "
      ]
     },
     "execution_count": 82,
     "metadata": {},
     "output_type": "execute_result"
    }
   ],
   "source": [
    "df=pd.DataFrame({})\n",
    "df['Laptop_Title']=Lap_titles\n",
    "df['Price']=Lap_prices\n",
    "df['Rating']=lap_ratings\n",
    "df"
   ]
  },
  {
   "cell_type": "code",
   "execution_count": null,
   "metadata": {},
   "outputs": [],
   "source": []
  },
  {
   "cell_type": "code",
   "execution_count": null,
   "metadata": {},
   "outputs": [],
   "source": []
  },
  {
   "cell_type": "code",
   "execution_count": null,
   "metadata": {},
   "outputs": [],
   "source": []
  },
  {
   "cell_type": "code",
   "execution_count": null,
   "metadata": {},
   "outputs": [],
   "source": []
  },
  {
   "cell_type": "code",
   "execution_count": null,
   "metadata": {},
   "outputs": [],
   "source": []
  },
  {
   "cell_type": "code",
   "execution_count": null,
   "metadata": {},
   "outputs": [],
   "source": []
  },
  {
   "cell_type": "code",
   "execution_count": null,
   "metadata": {},
   "outputs": [],
   "source": []
  },
  {
   "cell_type": "code",
   "execution_count": null,
   "metadata": {},
   "outputs": [],
   "source": []
  },
  {
   "cell_type": "code",
   "execution_count": null,
   "metadata": {},
   "outputs": [],
   "source": []
  },
  {
   "cell_type": "code",
   "execution_count": null,
   "metadata": {},
   "outputs": [],
   "source": []
  },
  {
   "cell_type": "code",
   "execution_count": null,
   "metadata": {},
   "outputs": [],
   "source": []
  },
  {
   "cell_type": "code",
   "execution_count": null,
   "metadata": {},
   "outputs": [],
   "source": []
  },
  {
   "cell_type": "code",
   "execution_count": null,
   "metadata": {},
   "outputs": [],
   "source": []
  },
  {
   "cell_type": "code",
   "execution_count": null,
   "metadata": {},
   "outputs": [],
   "source": []
  },
  {
   "cell_type": "code",
   "execution_count": null,
   "metadata": {},
   "outputs": [],
   "source": []
  },
  {
   "cell_type": "code",
   "execution_count": null,
   "metadata": {},
   "outputs": [],
   "source": []
  },
  {
   "cell_type": "code",
   "execution_count": null,
   "metadata": {},
   "outputs": [],
   "source": []
  },
  {
   "cell_type": "code",
   "execution_count": null,
   "metadata": {},
   "outputs": [],
   "source": []
  },
  {
   "cell_type": "code",
   "execution_count": null,
   "metadata": {},
   "outputs": [],
   "source": []
  },
  {
   "cell_type": "code",
   "execution_count": null,
   "metadata": {},
   "outputs": [],
   "source": []
  },
  {
   "cell_type": "code",
   "execution_count": null,
   "metadata": {},
   "outputs": [],
   "source": []
  },
  {
   "cell_type": "code",
   "execution_count": null,
   "metadata": {},
   "outputs": [],
   "source": []
  },
  {
   "cell_type": "code",
   "execution_count": null,
   "metadata": {},
   "outputs": [],
   "source": []
  },
  {
   "cell_type": "code",
   "execution_count": null,
   "metadata": {},
   "outputs": [],
   "source": []
  },
  {
   "cell_type": "code",
   "execution_count": null,
   "metadata": {},
   "outputs": [],
   "source": []
  },
  {
   "cell_type": "code",
   "execution_count": null,
   "metadata": {},
   "outputs": [],
   "source": []
  },
  {
   "cell_type": "code",
   "execution_count": null,
   "metadata": {},
   "outputs": [],
   "source": []
  },
  {
   "cell_type": "code",
   "execution_count": null,
   "metadata": {},
   "outputs": [],
   "source": []
  },
  {
   "cell_type": "code",
   "execution_count": null,
   "metadata": {},
   "outputs": [],
   "source": []
  },
  {
   "cell_type": "code",
   "execution_count": null,
   "metadata": {},
   "outputs": [],
   "source": []
  },
  {
   "cell_type": "code",
   "execution_count": null,
   "metadata": {},
   "outputs": [],
   "source": []
  },
  {
   "cell_type": "code",
   "execution_count": null,
   "metadata": {},
   "outputs": [],
   "source": []
  },
  {
   "cell_type": "code",
   "execution_count": null,
   "metadata": {},
   "outputs": [],
   "source": []
  },
  {
   "cell_type": "code",
   "execution_count": null,
   "metadata": {},
   "outputs": [],
   "source": []
  },
  {
   "cell_type": "code",
   "execution_count": null,
   "metadata": {},
   "outputs": [],
   "source": []
  },
  {
   "cell_type": "code",
   "execution_count": null,
   "metadata": {},
   "outputs": [],
   "source": []
  },
  {
   "cell_type": "code",
   "execution_count": null,
   "metadata": {},
   "outputs": [],
   "source": []
  },
  {
   "cell_type": "code",
   "execution_count": null,
   "metadata": {},
   "outputs": [],
   "source": []
  },
  {
   "cell_type": "code",
   "execution_count": null,
   "metadata": {},
   "outputs": [],
   "source": []
  },
  {
   "cell_type": "code",
   "execution_count": null,
   "metadata": {},
   "outputs": [],
   "source": []
  },
  {
   "cell_type": "code",
   "execution_count": null,
   "metadata": {},
   "outputs": [],
   "source": []
  },
  {
   "cell_type": "code",
   "execution_count": null,
   "metadata": {},
   "outputs": [],
   "source": []
  }
 ],
 "metadata": {
  "kernelspec": {
   "display_name": "Python 3",
   "language": "python",
   "name": "python3"
  },
  "language_info": {
   "codemirror_mode": {
    "name": "ipython",
    "version": 3
   },
   "file_extension": ".py",
   "mimetype": "text/x-python",
   "name": "python",
   "nbconvert_exporter": "python",
   "pygments_lexer": "ipython3",
   "version": "3.8.5"
  }
 },
 "nbformat": 4,
 "nbformat_minor": 4
}
